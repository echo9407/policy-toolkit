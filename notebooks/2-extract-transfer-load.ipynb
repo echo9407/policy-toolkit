{
 "cells": [
  {
   "cell_type": "code",
   "execution_count": null,
   "metadata": {},
   "outputs": [],
   "source": [
    "%%javascript\n",
    "Jupyter.notebook.session.restart({kernel_name: 'policy-toolkit'})"
   ]
  },
  {
   "cell_type": "code",
   "execution_count": 320,
   "metadata": {},
   "outputs": [],
   "source": [
    "from PIL import Image\n",
    "from wand.image import Image as wimage\n",
    "import os\n",
    "import io\n",
    "import pytesseract\n",
    "import numpy as np\n",
    "import re\n",
    "\n",
    "filepath = \"../data/raw/Forest Conservation and Management Act.pdf\"\n",
    "\n",
    "class Document:\n",
    "    def __init__(self, path, titles = None):\n",
    "        self.path = path\n",
    "        self.titles = titles\n",
    "    \n",
    "    def get_images(self):\n",
    "        page_images = []\n",
    "        with wimage(filename=self.path, resolution=200) as img:\n",
    "            for page_wand_image_seq in img.sequence:\n",
    "                page_wand_image = wimage(page_wand_image_seq)\n",
    "                page_jpeg_bytes = page_wand_image.make_blob(format=\"jpeg\")\n",
    "                page_jpeg_data = io.BytesIO(page_jpeg_bytes)\n",
    "                page_image = Image.open(page_jpeg_data)\n",
    "                page_images.append(page_image)\n",
    "        self.images = page_images\n",
    "        \n",
    "    def process_images(self):\n",
    "        self.text = np.array([pytesseract.image_to_string(x) for x in self.images])\n",
    "        self.pages = [x for x in range(len(self.images))]\n",
    "        \n",
    "    def split_lines(self):\n",
    "        self.lines = {}\n",
    "        counter = 0\n",
    "        pages = [re.split('\\n', self.text[i]) for i in self.pages]\n",
    "        for x, page in enumerate(pages):\n",
    "            for i, line in enumerate(page):\n",
    "                self.lines[i + counter] = [line, x]\n",
    "            counter += len(page)\n",
    "    \n",
    "    def remove_titles(self):\n",
    "        titles = [x for x in list(self.lines.keys()) if self.lines[x][0].lower() != self.lines[x][0] and\\\n",
    "                  len(self.lines[x][0]) <= 50]\n",
    "        titles = [x for x in titles if self.lines[max(0, x - 1)][0].endswith('.') or\\\n",
    "                  self.lines[max(0, x - 1)][0] == '']\n",
    "        print(\"Removing {} titles\".format(len(titles)))\n",
    "        for x in titles:\n",
    "            del self.lines[x]\n",
    "        self.lines = { key : value for key, value in zip(range(len(self.lines)), self.lines.values())}\n",
    "        \n",
    "    def combine_sentences(self):\n",
    "        self.paragraphs = []\n",
    "        ends = [0] + [i + 1 for i in self.lines.keys() if self.lines.get(i)[0].endswith('.')]\n",
    "        sentence_ids = [(val, ends[x + 1]) for x, val in enumerate(ends) if val < max(ends)]\n",
    "        for i in sentence_ids:\n",
    "            lines = [self.lines.get(x)[0] for x in range(i[0], i[1])]\n",
    "            self.paragraphs.append(' '.join(' '.join(lines).split()))"
   ]
  },
  {
   "cell_type": "code",
   "execution_count": 321,
   "metadata": {},
   "outputs": [
    {
     "name": "stdout",
     "output_type": "stream",
     "text": [
      "Removing 447 titles\n"
     ]
    }
   ],
   "source": [
    "doc1 = Document(path = filepath)\n",
    "doc1.get_images()\n",
    "doc1.process_images()\n",
    "doc1.split_lines()\n",
    "doc1.remove_titles()\n",
    "doc1.combine_sentences()\n",
    "#! TODO: Identify and remove page headers and footers\n",
    "#! TODO: pass over the paragraphs and join danglers\n",
    "#! TODO: context-aware spell correction\n",
    "#! TODO: Remove [], ()\n",
    "#! TODO: Export as CSV :)"
   ]
  },
  {
   "cell_type": "code",
   "execution_count": null,
   "metadata": {},
   "outputs": [],
   "source": [
    "for x in doc1.paragraphs:\n",
    "    print(x, '\\n')"
   ]
  }
 ],
 "metadata": {
  "kernelspec": {
   "display_name": "policy-toolkit",
   "language": "python",
   "name": "policy-toolkit"
  },
  "language_info": {
   "codemirror_mode": {
    "name": "ipython",
    "version": 3
   },
   "file_extension": ".py",
   "mimetype": "text/x-python",
   "name": "python",
   "nbconvert_exporter": "python",
   "pygments_lexer": "ipython3",
   "version": "3.7.3"
  }
 },
 "nbformat": 4,
 "nbformat_minor": 2
}
