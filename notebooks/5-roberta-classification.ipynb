{
 "cells": [
  {
   "cell_type": "markdown",
   "metadata": {},
   "source": [
    "# roBERTa paragraph encodings\n",
    "\n",
    "Encodes paragraphs with roberta for input into snorkel metal end model.\n",
    "\n",
    "John Brandt\n",
    "\n",
    "\n",
    "Last Updated: August 15, 2019"
   ]
  },
  {
   "cell_type": "code",
   "execution_count": 9,
   "metadata": {},
   "outputs": [],
   "source": [
    "import torch\n",
    "import ssl\n",
    "import pandas as pd"
   ]
  },
  {
   "cell_type": "code",
   "execution_count": null,
   "metadata": {},
   "outputs": [],
   "source": [
    "ssl._create_default_https_context = ssl._create_unverified_context\n",
    "\n",
    "roberta = torch.hub.load('pytorch/fairseq', 'roberta.large')\n",
    "roberta.eval()  # disable dropout (or leave in train mode to finetune)"
   ]
  },
  {
   "cell_type": "markdown",
   "metadata": {},
   "source": [
    "## Encode sentences with roberta"
   ]
  },
  {
   "cell_type": "code",
   "execution_count": 11,
   "metadata": {},
   "outputs": [],
   "source": [
    "df = pd.read_csv(\"../data/processed/gold_standard.csv\")"
   ]
  },
  {
   "cell_type": "code",
   "execution_count": 17,
   "metadata": {},
   "outputs": [],
   "source": [
    "def encoder(sentence, max_len = 20):\n",
    "    sentence_split = sentence.split(' ')\n",
    "    sentence = ' '.join(sentence_split[:(min(len(sentence_split), max_len))])\n",
    "    tokens = roberta.encode(sentence)\n",
    "    tokens = tokens[:min(len(tokens), max_len)]\n",
    "    last_layer_features = roberta.extract_features(tokens)\n",
    "    return last_layer_features\n",
    "\n",
    "range_list = [x for x in range(len(df))]\n",
    "encodings = [encoder(df['sentences'][x]) for x in range_list[:50]]"
   ]
  },
  {
   "cell_type": "code",
   "execution_count": 18,
   "metadata": {},
   "outputs": [
    {
     "data": {
      "text/plain": [
       "torch.Size([50, 20, 1024])"
      ]
     },
     "execution_count": 18,
     "metadata": {},
     "output_type": "execute_result"
    }
   ],
   "source": [
    "encodings_stacked = torch.cat(encodings, 0)\n",
    "encodings_stacked.shape"
   ]
  },
  {
   "cell_type": "code",
   "execution_count": 19,
   "metadata": {},
   "outputs": [],
   "source": [
    "torch.save(encodings_stacked, '../data/interim/encodings.pt')"
   ]
  }
 ],
 "metadata": {
  "kernelspec": {
   "display_name": "policy-toolkit",
   "language": "python",
   "name": "policy-toolkit"
  },
  "language_info": {
   "codemirror_mode": {
    "name": "ipython",
    "version": 3
   },
   "file_extension": ".py",
   "mimetype": "text/x-python",
   "name": "python",
   "nbconvert_exporter": "python",
   "pygments_lexer": "ipython3",
   "version": "3.7.3"
  }
 },
 "nbformat": 4,
 "nbformat_minor": 2
}
