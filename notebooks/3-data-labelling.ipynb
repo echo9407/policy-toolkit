{
 "cells": [
  {
   "cell_type": "markdown",
   "metadata": {},
   "source": [
    "# Manual data labeling\n",
    "\n",
    "Simple notebook to load in a CSV output from the R package `retrieveR` (WRI, 2018), subset data, and attach manual labels to create a gold standard dataset.\n",
    "\n",
    "Last updated: July 24, 2019"
   ]
  },
  {
   "cell_type": "code",
   "execution_count": null,
   "metadata": {},
   "outputs": [],
   "source": [
    "import sys\n",
    "!{sys.executable} -m pip install pandas --user"
   ]
  },
  {
   "cell_type": "code",
   "execution_count": 75,
   "metadata": {},
   "outputs": [],
   "source": [
    "import pandas as pd\n",
    "data = pd.read_csv(\"../data/interim/kenya-finance.csv\")"
   ]
  },
  {
   "cell_type": "code",
   "execution_count": 76,
   "metadata": {},
   "outputs": [
    {
     "data": {
      "text/plain": [
       "(118, 8)"
      ]
     },
     "execution_count": 76,
     "metadata": {},
     "output_type": "execute_result"
    }
   ],
   "source": [
    "data = data[data['results'] >= 0.4]\n",
    "data = data[data['results'] < 0.45]# & (data['results'] <= 0.45)]\n",
    "data.shape\n",
    "# High and low transaction costs"
   ]
  },
  {
   "cell_type": "markdown",
   "metadata": {},
   "source": [
    "### Loop through subsetted data and manually classify text"
   ]
  },
  {
   "cell_type": "code",
   "execution_count": 77,
   "metadata": {},
   "outputs": [],
   "source": [
    "# label as i: incentive\n",
    "# n: neutral\n",
    "# d: disincentive\n",
    "from IPython.display import clear_output\n",
    "\n",
    "results = []\n",
    "for i, val in enumerate(data['sentences']):\n",
    "    print(i, val)\n",
    "    results.append(input(\"Yes or no\"))\n",
    "    clear_output()"
   ]
  },
  {
   "cell_type": "code",
   "execution_count": 78,
   "metadata": {},
   "outputs": [],
   "source": [
    "data['class'] = results\n",
    "data.to_csv(\"../data/interim/kenya-positive2.csv\")"
   ]
  }
 ],
 "metadata": {
  "kernelspec": {
   "display_name": "policy-toolkit",
   "language": "python",
   "name": "policy-toolkit"
  },
  "language_info": {
   "codemirror_mode": {
    "name": "ipython",
    "version": 3
   },
   "file_extension": ".py",
   "mimetype": "text/x-python",
   "name": "python",
   "nbconvert_exporter": "python",
   "pygments_lexer": "ipython3",
   "version": "3.7.3"
  }
 },
 "nbformat": 4,
 "nbformat_minor": 2
}
