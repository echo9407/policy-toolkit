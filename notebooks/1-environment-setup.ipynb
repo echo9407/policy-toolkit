{
 "cells": [
  {
   "cell_type": "markdown",
   "metadata": {},
   "source": [
    "## Create virtual environment"
   ]
  },
  {
   "cell_type": "code",
   "execution_count": 1,
   "metadata": {},
   "outputs": [
    {
     "name": "stdout",
     "output_type": "stream",
     "text": [
      "WARNING conda.base.context:use_only_tar_bz2(632): Conda is constrained to only using the old .tar.bz2 file format because you have conda-build installed, and it is <3.18.3.  Update or remove conda-build to get smaller downloads and faster extractions.\n",
      "Collecting package metadata (repodata.json): done\n",
      "Solving environment: done\n",
      "\n",
      "\n",
      "==> WARNING: A newer version of conda exists. <==\n",
      "  current version: 4.7.5\n",
      "  latest version: 4.7.11\n",
      "\n",
      "Please update conda by running\n",
      "\n",
      "    $ conda update -n base -c defaults conda\n",
      "\n",
      "\n",
      "\n",
      "## Package Plan ##\n",
      "\n",
      "  environment location: /Users/johnbrandt/anaconda3/envs/policy-toolkit\n",
      "\n",
      "  added / updated specs:\n",
      "    - python=3.6\n",
      "\n",
      "\n",
      "The following packages will be downloaded:\n",
      "\n",
      "    package                    |            build\n",
      "    ---------------------------|-----------------\n",
      "    ca-certificates-2019.5.15  |                1         133 KB\n",
      "    certifi-2019.6.16          |           py36_1         155 KB\n",
      "    pip-19.1.1                 |           py36_0         1.9 MB\n",
      "    python-3.6.9               |       h359304d_0        20.5 MB\n",
      "    setuptools-41.0.1          |           py36_0         641 KB\n",
      "    sqlite-3.29.0              |       ha441bb4_0         2.4 MB\n",
      "    wheel-0.33.4               |           py36_0          39 KB\n",
      "    ------------------------------------------------------------\n",
      "                                           Total:        25.7 MB\n",
      "\n",
      "The following NEW packages will be INSTALLED:\n",
      "\n",
      "  ca-certificates    pkgs/main/osx-64::ca-certificates-2019.5.15-1\n",
      "  certifi            pkgs/main/osx-64::certifi-2019.6.16-py36_1\n",
      "  libcxx             pkgs/main/osx-64::libcxx-4.0.1-hcfea43d_1\n",
      "  libcxxabi          pkgs/main/osx-64::libcxxabi-4.0.1-hcfea43d_1\n",
      "  libedit            pkgs/main/osx-64::libedit-3.1.20181209-hb402a30_0\n",
      "  libffi             pkgs/main/osx-64::libffi-3.2.1-h475c297_4\n",
      "  ncurses            pkgs/main/osx-64::ncurses-6.1-h0a44026_1\n",
      "  openssl            pkgs/main/osx-64::openssl-1.1.1c-h1de35cc_1\n",
      "  pip                pkgs/main/osx-64::pip-19.1.1-py36_0\n",
      "  python             pkgs/main/osx-64::python-3.6.9-h359304d_0\n",
      "  readline           pkgs/main/osx-64::readline-7.0-h1de35cc_5\n",
      "  setuptools         pkgs/main/osx-64::setuptools-41.0.1-py36_0\n",
      "  sqlite             pkgs/main/osx-64::sqlite-3.29.0-ha441bb4_0\n",
      "  tk                 pkgs/main/osx-64::tk-8.6.8-ha441bb4_0\n",
      "  wheel              pkgs/main/osx-64::wheel-0.33.4-py36_0\n",
      "  xz                 pkgs/main/osx-64::xz-5.2.4-h1de35cc_4\n",
      "  zlib               pkgs/main/osx-64::zlib-1.2.11-h1de35cc_3\n",
      "\n",
      "\n",
      "\n",
      "Downloading and Extracting Packages\n",
      "ca-certificates-2019 | 133 KB    | ##################################### | 100% \n",
      "wheel-0.33.4         | 39 KB     | ##################################### | 100% \n",
      "python-3.6.9         | 20.5 MB   | ##################################### | 100% \n",
      "sqlite-3.29.0        | 2.4 MB    | ##################################### | 100% \n",
      "certifi-2019.6.16    | 155 KB    | ##################################### | 100% \n",
      "pip-19.1.1           | 1.9 MB    | ##################################### | 100% \n",
      "setuptools-41.0.1    | 641 KB    | ##################################### | 100% \n",
      "Preparing transaction: done\n",
      "Verifying transaction: failed\n",
      "\n",
      "RemoveError: 'setuptools' is a dependency of conda and cannot be removed from\n",
      "conda's operating environment.\n",
      "\n"
     ]
    }
   ],
   "source": [
    "!conda create -n policy-toolkit python=3.6 -y"
   ]
  },
  {
   "cell_type": "markdown",
   "metadata": {},
   "source": [
    "## Link virtual environment to Jupyter"
   ]
  },
  {
   "cell_type": "code",
   "execution_count": 2,
   "metadata": {},
   "outputs": [
    {
     "name": "stdout",
     "output_type": "stream",
     "text": [
      "Requirement already satisfied: ipykernel in /Users/johnbrandt/Library/Python/2.7/lib/python/site-packages (4.10.0)\n",
      "Requirement already satisfied: jupyter-client in /Users/johnbrandt/Library/Python/2.7/lib/python/site-packages (from ipykernel) (5.3.1)\n",
      "Requirement already satisfied: tornado>=4.0 in /Users/johnbrandt/Library/Python/2.7/lib/python/site-packages (from ipykernel) (5.1.1)\n",
      "Requirement already satisfied: traitlets>=4.1.0 in /Users/johnbrandt/Library/Python/2.7/lib/python/site-packages (from ipykernel) (4.3.2)\n",
      "Requirement already satisfied: ipython>=4.0.0 in /Users/johnbrandt/Library/Python/2.7/lib/python/site-packages (from ipykernel) (5.8.0)\n",
      "Requirement already satisfied: jupyter-core in /Users/johnbrandt/Library/Python/2.7/lib/python/site-packages (from jupyter-client->ipykernel) (4.5.0)\n",
      "Requirement already satisfied: pyzmq>=13 in /Users/johnbrandt/Library/Python/2.7/lib/python/site-packages (from jupyter-client->ipykernel) (18.0.2)\n",
      "Requirement already satisfied: python-dateutil>=2.1 in /Users/johnbrandt/Library/Python/2.7/lib/python/site-packages (from jupyter-client->ipykernel) (2.8.0)\n",
      "Requirement already satisfied: futures in /Users/johnbrandt/Library/Python/2.7/lib/python/site-packages (from tornado>=4.0->ipykernel) (3.2.0)\n",
      "Requirement already satisfied: singledispatch in /Users/johnbrandt/Library/Python/2.7/lib/python/site-packages (from tornado>=4.0->ipykernel) (3.4.0.3)\n",
      "Requirement already satisfied: backports_abc>=0.4 in /Users/johnbrandt/Library/Python/2.7/lib/python/site-packages (from tornado>=4.0->ipykernel) (0.5)\n",
      "Requirement already satisfied: ipython-genutils in /Users/johnbrandt/Library/Python/2.7/lib/python/site-packages (from traitlets>=4.1.0->ipykernel) (0.2.0)\n",
      "Requirement already satisfied: decorator in /Users/johnbrandt/Library/Python/2.7/lib/python/site-packages (from traitlets>=4.1.0->ipykernel) (4.4.0)\n",
      "Requirement already satisfied: six in /Library/Python/2.7/site-packages (from traitlets>=4.1.0->ipykernel) (1.12.0)\n",
      "Requirement already satisfied: enum34; python_version == \"2.7\" in /Users/johnbrandt/Library/Python/2.7/lib/python/site-packages (from traitlets>=4.1.0->ipykernel) (1.1.6)\n",
      "Requirement already satisfied: setuptools>=18.5 in /System/Library/Frameworks/Python.framework/Versions/2.7/Extras/lib/python (from ipython>=4.0.0->ipykernel) (18.5)\n",
      "Requirement already satisfied: simplegeneric>0.8 in /Users/johnbrandt/Library/Python/2.7/lib/python/site-packages (from ipython>=4.0.0->ipykernel) (0.8.1)\n",
      "Requirement already satisfied: backports.shutil-get-terminal-size; python_version == \"2.7\" in /Users/johnbrandt/Library/Python/2.7/lib/python/site-packages (from ipython>=4.0.0->ipykernel) (1.0.0)\n",
      "Requirement already satisfied: pygments in /Users/johnbrandt/Library/Python/2.7/lib/python/site-packages (from ipython>=4.0.0->ipykernel) (2.4.2)\n",
      "Requirement already satisfied: appnope; sys_platform == \"darwin\" in /Users/johnbrandt/Library/Python/2.7/lib/python/site-packages (from ipython>=4.0.0->ipykernel) (0.1.0)\n",
      "Requirement already satisfied: pexpect; sys_platform != \"win32\" in /Users/johnbrandt/Library/Python/2.7/lib/python/site-packages (from ipython>=4.0.0->ipykernel) (4.7.0)\n",
      "Requirement already satisfied: pickleshare in /Users/johnbrandt/Library/Python/2.7/lib/python/site-packages (from ipython>=4.0.0->ipykernel) (0.7.5)\n",
      "Requirement already satisfied: prompt-toolkit<2.0.0,>=1.0.4 in /Users/johnbrandt/Library/Python/2.7/lib/python/site-packages (from ipython>=4.0.0->ipykernel) (1.0.16)\n",
      "Requirement already satisfied: pathlib2; python_version == \"2.7\" or python_version == \"3.3\" in /Users/johnbrandt/Library/Python/2.7/lib/python/site-packages (from ipython>=4.0.0->ipykernel) (2.3.4)\n",
      "Requirement already satisfied: ptyprocess>=0.5 in /Users/johnbrandt/Library/Python/2.7/lib/python/site-packages (from pexpect; sys_platform != \"win32\"->ipython>=4.0.0->ipykernel) (0.6.0)\n",
      "Requirement already satisfied: wcwidth in /Users/johnbrandt/Library/Python/2.7/lib/python/site-packages (from prompt-toolkit<2.0.0,>=1.0.4->ipython>=4.0.0->ipykernel) (0.1.7)\n",
      "Requirement already satisfied: scandir; python_version < \"3.5\" in /Users/johnbrandt/Library/Python/2.7/lib/python/site-packages (from pathlib2; python_version == \"2.7\" or python_version == \"3.3\"->ipython>=4.0.0->ipykernel) (1.10.0)\n"
     ]
    }
   ],
   "source": [
    "!pip install --user ipykernel"
   ]
  },
  {
   "cell_type": "code",
   "execution_count": 3,
   "metadata": {},
   "outputs": [
    {
     "name": "stdout",
     "output_type": "stream",
     "text": [
      "Installed kernelspec policy-toolkit in /Users/johnbrandt/Library/Jupyter/kernels/policy-toolkit\r\n"
     ]
    }
   ],
   "source": [
    "!python3 -m ipykernel install --user --name=policy-toolkit"
   ]
  },
  {
   "cell_type": "markdown",
   "metadata": {},
   "source": [
    "## Restart kernel and install packages"
   ]
  },
  {
   "cell_type": "code",
   "execution_count": null,
   "metadata": {},
   "outputs": [
    {
     "data": {
      "application/javascript": [
       "Jupyter.notebook.session.restart({kernel_name: 'policy-toolkit'})\n"
      ],
      "text/plain": [
       "<IPython.core.display.Javascript object>"
      ]
     },
     "metadata": {},
     "output_type": "display_data"
    }
   ],
   "source": [
    "%%javascript\n",
    "Jupyter.notebook.session.restart({kernel_name: 'policy-toolkit'})"
   ]
  },
  {
   "cell_type": "code",
   "execution_count": null,
   "metadata": {},
   "outputs": [
    {
     "name": "stdout",
     "output_type": "stream",
     "text": [
      "Collecting pytesseract\n",
      "\u001b[?25l  Downloading https://files.pythonhosted.org/packages/1d/40/3f72d13d0f347bf688ff189b6d6bb369125c0bed9ed4b15e7f20c65123a8/pytesseract-0.2.7.tar.gz (169kB)\n",
      "\u001b[K    100% |████████████████████████████████| 174kB 3.5MB/s ta 0:00:01\n",
      "\u001b[?25hRequirement already satisfied: Pillow in /Library/Frameworks/Python.framework/Versions/3.6/lib/python3.6/site-packages (from pytesseract) (5.4.1)\n",
      "Building wheels for collected packages: pytesseract\n",
      "  Running setup.py bdist_wheel for pytesseract ... \u001b[?25ldone\n",
      "\u001b[?25h  Stored in directory: /Users/johnbrandt/Library/Caches/pip/wheels/cd/4a/30/998e01b892300ba0ccce7b806b6e889794605a384dac81a49a\n",
      "Successfully built pytesseract\n",
      "\u001b[31mgoogle-cloud-bigquery 1.6.1 has requirement google-cloud-core<0.30dev,>=0.28.0, but you'll have google-cloud-core 1.0.3 which is incompatible.\u001b[0m\n",
      "Installing collected packages: pytesseract\n",
      "Successfully installed pytesseract-0.2.7\n",
      "\u001b[33mYou are using pip version 10.0.1, however version 19.2.2 is available.\n",
      "You should consider upgrading via the 'pip install --upgrade pip' command.\u001b[0m\n",
      "Collecting Wand\n",
      "\u001b[?25l  Downloading https://files.pythonhosted.org/packages/ad/1c/257f63eaa1ae1e0d05390bcc47807c0969487dce8794cdb64043d2f754b0/Wand-0.5.6.tar.gz (114kB)\n",
      "\u001b[K    100% |████████████████████████████████| 122kB 1.9MB/s ta 0:00:01\n",
      "\u001b[?25hBuilding wheels for collected packages: Wand\n",
      "  Running setup.py bdist_wheel for Wand ... \u001b[?25ldone\n",
      "\u001b[?25h  Stored in directory: /Users/johnbrandt/Library/Caches/pip/wheels/31/39/9f/d2f6b4bc6ba3fe4cc4d7c1512ca7c18ccda96c70b81724ab19\n",
      "Successfully built Wand\n",
      "\u001b[31mgoogle-cloud-bigquery 1.6.1 has requirement google-cloud-core<0.30dev,>=0.28.0, but you'll have google-cloud-core 1.0.3 which is incompatible.\u001b[0m\n",
      "Installing collected packages: Wand\n",
      "Successfully installed Wand-0.5.6\n",
      "\u001b[33mYou are using pip version 10.0.1, however version 19.2.2 is available.\n",
      "You should consider upgrading via the 'pip install --upgrade pip' command.\u001b[0m\n",
      "Requirement already satisfied: pandas in /Library/Frameworks/Python.framework/Versions/3.6/lib/python3.6/site-packages (0.24.2)\n",
      "Requirement already satisfied: numpy>=1.12.0 in /Users/johnbrandt/Library/Python/3.6/lib/python/site-packages (from pandas) (1.16.4)\n",
      "Requirement already satisfied: python-dateutil>=2.5.0 in /Library/Frameworks/Python.framework/Versions/3.6/lib/python3.6/site-packages (from pandas) (2.7.3)\n",
      "Requirement already satisfied: pytz>=2011k in /Library/Frameworks/Python.framework/Versions/3.6/lib/python3.6/site-packages (from pandas) (2018.5)\n",
      "Requirement already satisfied: six>=1.5 in /Users/johnbrandt/Library/Python/3.6/lib/python/site-packages (from python-dateutil>=2.5.0->pandas) (1.12.0)\n",
      "\u001b[31mgoogle-cloud-bigquery 1.6.1 has requirement google-cloud-core<0.30dev,>=0.28.0, but you'll have google-cloud-core 1.0.3 which is incompatible.\u001b[0m\n",
      "\u001b[33mYou are using pip version 10.0.1, however version 19.2.2 is available.\n",
      "You should consider upgrading via the 'pip install --upgrade pip' command.\u001b[0m\n",
      "Collecting snorkel-metal\n",
      "\u001b[?25l  Downloading https://files.pythonhosted.org/packages/1c/f4/8fdcdb895eb74cf417503b1713138f4667656ef01b40bed7e30cbebee88e/snorkel_metal-0.5.0-py3-none-any.whl (133kB)\n",
      "\u001b[K    100% |████████████████████████████████| 143kB 3.4MB/s ta 0:00:01\n",
      "\u001b[?25hRequirement already satisfied: scikit-learn in /Library/Frameworks/Python.framework/Versions/3.6/lib/python3.6/site-packages (from snorkel-metal) (0.21.2)\n",
      "Requirement already satisfied: scipy in /Users/johnbrandt/Library/Python/3.6/lib/python/site-packages (from snorkel-metal) (1.3.0)\n",
      "Requirement already satisfied: dill in /Users/johnbrandt/Library/Python/3.6/lib/python/site-packages (from snorkel-metal) (0.2.9)\n",
      "Requirement already satisfied: tqdm in /Library/Frameworks/Python.framework/Versions/3.6/lib/python3.6/site-packages (from snorkel-metal) (4.28.1)\n",
      "Requirement already satisfied: pandas in /Library/Frameworks/Python.framework/Versions/3.6/lib/python3.6/site-packages (from snorkel-metal) (0.24.2)\n",
      "Collecting torch>=1.0 (from snorkel-metal)\n",
      "\u001b[?25l  Downloading https://files.pythonhosted.org/packages/17/97/79c3636f4ed8f7165374c920e11fa6454638b5632eeef997d967fd13b04c/torch-1.2.0-cp36-none-macosx_10_7_x86_64.whl (59.9MB)\n",
      "\u001b[K    100% |████████████████████████████████| 59.9MB 637kB/s ta 0:00:011\n",
      "\u001b[?25hCollecting networkx>=2.2 (from snorkel-metal)\n",
      "\u001b[?25l  Downloading https://files.pythonhosted.org/packages/85/08/f20aef11d4c343b557e5de6b9548761811eb16e438cee3d32b1c66c8566b/networkx-2.3.zip (1.7MB)\n",
      "\u001b[K    100% |████████████████████████████████| 1.8MB 6.3MB/s eta 0:00:01\n",
      "\u001b[?25hRequirement already satisfied: numpy in /Users/johnbrandt/Library/Python/3.6/lib/python/site-packages (from snorkel-metal) (1.16.4)\n",
      "Requirement already satisfied: joblib>=0.11 in /Library/Frameworks/Python.framework/Versions/3.6/lib/python3.6/site-packages (from scikit-learn->snorkel-metal) (0.13.2)\n",
      "Requirement already satisfied: pytz>=2011k in /Library/Frameworks/Python.framework/Versions/3.6/lib/python3.6/site-packages (from pandas->snorkel-metal) (2018.5)\n",
      "Requirement already satisfied: python-dateutil>=2.5.0 in /Library/Frameworks/Python.framework/Versions/3.6/lib/python3.6/site-packages (from pandas->snorkel-metal) (2.7.3)\n",
      "Requirement already satisfied: decorator>=4.3.0 in /Library/Frameworks/Python.framework/Versions/3.6/lib/python3.6/site-packages (from networkx>=2.2->snorkel-metal) (4.3.0)\n",
      "Requirement already satisfied: six>=1.5 in /Users/johnbrandt/Library/Python/3.6/lib/python/site-packages (from python-dateutil>=2.5.0->pandas->snorkel-metal) (1.12.0)\n",
      "Building wheels for collected packages: networkx\n",
      "  Running setup.py bdist_wheel for networkx ... \u001b[?25ldone\n",
      "\u001b[?25h  Stored in directory: /Users/johnbrandt/Library/Caches/pip/wheels/de/63/64/3699be2a9d0ccdb37c7f16329acf3863fd76eda58c39c737af\n",
      "Successfully built networkx\n",
      "\u001b[31mgoogle-cloud-bigquery 1.6.1 has requirement google-cloud-core<0.30dev,>=0.28.0, but you'll have google-cloud-core 1.0.3 which is incompatible.\u001b[0m\n",
      "Installing collected packages: torch, networkx, snorkel-metal\n",
      "Successfully installed networkx-2.3 snorkel-metal-0.5.0 torch-1.2.0\n",
      "\u001b[33mYou are using pip version 10.0.1, however version 19.2.2 is available.\n",
      "You should consider upgrading via the 'pip install --upgrade pip' command.\u001b[0m\n",
      "Collecting tensorboardX\n",
      "\u001b[?25l  Downloading https://files.pythonhosted.org/packages/c3/12/dcaf67e1312475b26db9e45e7bb6f32b540671a9ee120b3a72d9e09bc517/tensorboardX-1.8-py2.py3-none-any.whl (216kB)\n",
      "\u001b[K    100% |████████████████████████████████| 225kB 5.6MB/s ta 0:00:01\n",
      "\u001b[?25hRequirement already satisfied: protobuf>=3.2.0 in /Users/johnbrandt/Library/Python/3.6/lib/python/site-packages (from tensorboardX) (3.8.0)\n",
      "Requirement already satisfied: six in /Users/johnbrandt/Library/Python/3.6/lib/python/site-packages (from tensorboardX) (1.12.0)\n",
      "Requirement already satisfied: numpy in /Users/johnbrandt/Library/Python/3.6/lib/python/site-packages (from tensorboardX) (1.16.4)\n",
      "Requirement already satisfied: setuptools in /Users/johnbrandt/Library/Python/3.6/lib/python/site-packages (from protobuf>=3.2.0->tensorboardX) (41.0.1)\n",
      "\u001b[31mgoogle-cloud-bigquery 1.6.1 has requirement google-cloud-core<0.30dev,>=0.28.0, but you'll have google-cloud-core 1.0.3 which is incompatible.\u001b[0m\n",
      "Installing collected packages: tensorboardX\n",
      "Successfully installed tensorboardX-1.8\n",
      "\u001b[33mYou are using pip version 10.0.1, however version 19.2.2 is available.\n",
      "You should consider upgrading via the 'pip install --upgrade pip' command.\u001b[0m\n",
      "Collecting git+https://github.com/HazyResearch/snorkel\n",
      "  Cloning https://github.com/HazyResearch/snorkel to /private/var/folders/m5/_p_tp0v535z7k52m4qjcff6h0000gn/T/pip-req-build-8jonv9_h\n",
      "  Installing build dependencies ... \u001b[?25ldone\n",
      "\u001b[?25hRequirement already satisfied: numpy<2.0.0,>=1.16.0 in /Users/johnbrandt/Library/Python/3.6/lib/python/site-packages (from snorkel==0.9.0+dev) (1.16.4)\n",
      "Requirement already satisfied: scipy<2.0.0,>=1.2.0 in /Users/johnbrandt/Library/Python/3.6/lib/python/site-packages (from snorkel==0.9.0+dev) (1.3.0)\n",
      "Requirement already satisfied: pandas<0.25.0,>=0.24.0 in /Library/Frameworks/Python.framework/Versions/3.6/lib/python3.6/site-packages (from snorkel==0.9.0+dev) (0.24.2)\n",
      "Collecting tqdm<5.0.0,>=4.29.0 (from snorkel==0.9.0+dev)\n"
     ]
    },
    {
     "name": "stdout",
     "output_type": "stream",
     "text": [
      "\u001b[?25l  Downloading https://files.pythonhosted.org/packages/02/56/60a5b1c2e634d8e4ff89c7bab47645604e19658f448050a21facffd43796/tqdm-4.33.0-py2.py3-none-any.whl (50kB)\n",
      "\u001b[K    100% |████████████████████████████████| 51kB 896kB/s ta 0:00:01\n",
      "\u001b[?25hRequirement already satisfied: scikit-learn<0.22.0,>=0.20.2 in /Library/Frameworks/Python.framework/Versions/3.6/lib/python3.6/site-packages (from snorkel==0.9.0+dev) (0.21.2)\n",
      "Collecting torch<1.2.0,>=1.1.0 (from snorkel==0.9.0+dev)\n",
      "\u001b[?25l  Downloading https://files.pythonhosted.org/packages/98/14/8fb914c6f13e9d889f4e14f6d811901fc48fde6be7f052756d08e861f960/torch-1.1.0.post2-cp36-none-macosx_10_7_x86_64.whl (88.1MB)\n",
      "\u001b[K    100% |████████████████████████████████| 88.1MB 597kB/s ta 0:00:011\n",
      "\u001b[?25hRequirement already satisfied: networkx<3.0,>=2.2 in /Library/Frameworks/Python.framework/Versions/3.6/lib/python3.6/site-packages (from snorkel==0.9.0+dev) (2.3)\n",
      "Requirement already satisfied: tensorboardX<2.0,>=1.6 in /Library/Frameworks/Python.framework/Versions/3.6/lib/python3.6/site-packages (from snorkel==0.9.0+dev) (1.8)\n",
      "Requirement already satisfied: python-dateutil>=2.5.0 in /Library/Frameworks/Python.framework/Versions/3.6/lib/python3.6/site-packages (from pandas<0.25.0,>=0.24.0->snorkel==0.9.0+dev) (2.7.3)\n",
      "Requirement already satisfied: pytz>=2011k in /Library/Frameworks/Python.framework/Versions/3.6/lib/python3.6/site-packages (from pandas<0.25.0,>=0.24.0->snorkel==0.9.0+dev) (2018.5)\n",
      "Requirement already satisfied: joblib>=0.11 in /Library/Frameworks/Python.framework/Versions/3.6/lib/python3.6/site-packages (from scikit-learn<0.22.0,>=0.20.2->snorkel==0.9.0+dev) (0.13.2)\n",
      "Requirement already satisfied: decorator>=4.3.0 in /Library/Frameworks/Python.framework/Versions/3.6/lib/python3.6/site-packages (from networkx<3.0,>=2.2->snorkel==0.9.0+dev) (4.3.0)\n",
      "Requirement already satisfied: six in /Users/johnbrandt/Library/Python/3.6/lib/python/site-packages (from tensorboardX<2.0,>=1.6->snorkel==0.9.0+dev) (1.12.0)\n",
      "Requirement already satisfied: protobuf>=3.2.0 in /Users/johnbrandt/Library/Python/3.6/lib/python/site-packages (from tensorboardX<2.0,>=1.6->snorkel==0.9.0+dev) (3.8.0)\n",
      "Requirement already satisfied: setuptools in /Users/johnbrandt/Library/Python/3.6/lib/python/site-packages (from protobuf>=3.2.0->tensorboardX<2.0,>=1.6->snorkel==0.9.0+dev) (41.0.1)\n",
      "Building wheels for collected packages: snorkel\n",
      "  Running setup.py bdist_wheel for snorkel ... \u001b[?25ldone\n",
      "\u001b[?25h  Stored in directory: /private/var/folders/m5/_p_tp0v535z7k52m4qjcff6h0000gn/T/pip-ephem-wheel-cache-g_w7oefc/wheels/62/6f/22/444271063e7be3c3547fd48ba1782c8053489be0e0226990b0\n",
      "Successfully built snorkel\n",
      "\u001b[31mgoogle-cloud-bigquery 1.6.1 has requirement google-cloud-core<0.30dev,>=0.28.0, but you'll have google-cloud-core 1.0.3 which is incompatible.\u001b[0m\n",
      "Installing collected packages: tqdm, torch, snorkel\n",
      "  Found existing installation: tqdm 4.28.1\n",
      "    Uninstalling tqdm-4.28.1:\n",
      "      Successfully uninstalled tqdm-4.28.1\n",
      "  Found existing installation: torch 1.2.0\n",
      "    Uninstalling torch-1.2.0:\n",
      "      Successfully uninstalled torch-1.2.0\n",
      "Successfully installed snorkel-0.9.0+dev torch-1.1.0.post2 tqdm-4.33.0\n",
      "\u001b[33mYou are using pip version 10.0.1, however version 19.2.2 is available.\n",
      "You should consider upgrading via the 'pip install --upgrade pip' command.\u001b[0m\n",
      "Collecting sqlalchemy\n",
      "\u001b[?25l  Downloading https://files.pythonhosted.org/packages/55/98/56b7155bab287cd0c78dee26258835db36e91f2efef41f125ed6f6f1f334/SQLAlchemy-1.3.6.tar.gz (5.9MB)\n",
      "\u001b[K    100% |████████████████████████████████| 5.9MB 4.6MB/s ta 0:00:011\n",
      "\u001b[?25hBuilding wheels for collected packages: sqlalchemy\n",
      "  Running setup.py bdist_wheel for sqlalchemy ... \u001b[?25ldone\n",
      "\u001b[?25h  Stored in directory: /Users/johnbrandt/Library/Caches/pip/wheels/f2/ec/e0/d7deb0c981557e373edf7370574b7001690892afe5fea30c3c\n",
      "Successfully built sqlalchemy\n",
      "\u001b[31mgoogle-cloud-bigquery 1.6.1 has requirement google-cloud-core<0.30dev,>=0.28.0, but you'll have google-cloud-core 1.0.3 which is incompatible.\u001b[0m\n",
      "Installing collected packages: sqlalchemy\n",
      "Successfully installed sqlalchemy-1.3.6\n",
      "\u001b[33mYou are using pip version 10.0.1, however version 19.2.2 is available.\n",
      "You should consider upgrading via the 'pip install --upgrade pip' command.\u001b[0m\n",
      "Requirement already satisfied: matplotlib in /Library/Frameworks/Python.framework/Versions/3.6/lib/python3.6/site-packages (3.0.2)\n",
      "Requirement already satisfied: numpy>=1.10.0 in /Users/johnbrandt/Library/Python/3.6/lib/python/site-packages (from matplotlib) (1.16.4)\n",
      "Requirement already satisfied: pyparsing!=2.0.4,!=2.1.2,!=2.1.6,>=2.0.1 in /Library/Frameworks/Python.framework/Versions/3.6/lib/python3.6/site-packages (from matplotlib) (2.3.0)\n",
      "Requirement already satisfied: kiwisolver>=1.0.1 in /Library/Frameworks/Python.framework/Versions/3.6/lib/python3.6/site-packages (from matplotlib) (1.0.1)\n",
      "Requirement already satisfied: cycler>=0.10 in /Library/Frameworks/Python.framework/Versions/3.6/lib/python3.6/site-packages (from matplotlib) (0.10.0)\n",
      "Requirement already satisfied: python-dateutil>=2.1 in /Library/Frameworks/Python.framework/Versions/3.6/lib/python3.6/site-packages (from matplotlib) (2.7.3)\n",
      "Requirement already satisfied: setuptools in /Users/johnbrandt/Library/Python/3.6/lib/python/site-packages (from kiwisolver>=1.0.1->matplotlib) (41.0.1)\n",
      "Requirement already satisfied: six in /Users/johnbrandt/Library/Python/3.6/lib/python/site-packages (from cycler>=0.10->matplotlib) (1.12.0)\n",
      "\u001b[31mgoogle-cloud-bigquery 1.6.1 has requirement google-cloud-core<0.30dev,>=0.28.0, but you'll have google-cloud-core 1.0.3 which is incompatible.\u001b[0m\n",
      "\u001b[33mYou are using pip version 10.0.1, however version 19.2.2 is available.\n",
      "You should consider upgrading via the 'pip install --upgrade pip' command.\u001b[0m\n",
      "Collecting spacy\n",
      "\u001b[?25l  Downloading https://files.pythonhosted.org/packages/5c/38/fc37ad63427e9781e4bf5f350f9a1b9e472b3e48bc856ada9ace7fcf1b7d/spacy-2.1.8-cp36-cp36m-macosx_10_6_intel.macosx_10_9_intel.macosx_10_9_x86_64.macosx_10_10_intel.macosx_10_10_x86_64.whl (34.7MB)\n",
      "\u001b[K    100% |████████████████████████████████| 34.7MB 1.3MB/s eta 0:00:01\n",
      "\u001b[?25hCollecting preshed<2.1.0,>=2.0.1 (from spacy)\n",
      "\u001b[?25l  Downloading https://files.pythonhosted.org/packages/cb/5a/4b6f2035443e463a326e3a81863f2b4850be76b4538fd4931b1aa63f79b6/preshed-2.0.1-cp36-cp36m-macosx_10_6_intel.macosx_10_9_intel.macosx_10_9_x86_64.macosx_10_10_intel.macosx_10_10_x86_64.whl (148kB)\n",
      "\u001b[K    100% |████████████████████████████████| 153kB 10.9MB/s ta 0:00:01\n",
      "\u001b[?25hRequirement already satisfied: requests<3.0.0,>=2.13.0 in /Library/Frameworks/Python.framework/Versions/3.6/lib/python3.6/site-packages (from spacy) (2.19.1)\n",
      "Collecting thinc<7.1.0,>=7.0.8 (from spacy)\n"
     ]
    }
   ],
   "source": [
    "import sys\n",
    "!{sys.executable} -m pip install pytesseract\n",
    "!{sys.executable} -m pip install Wand\n",
    "!{sys.executable} -m pip install pandas\n",
    "!{sys.executable} -m pip install snorkel-metal\n",
    "!{sys.executable} -m pip install tensorboardX\n",
    "!{sys.executable} -m pip install git+https://github.com/HazyResearch/snorkel\n",
    "!{sys.executable} -m pip install sqlalchemy\n",
    "!{sys.executable} -m pip install matplotlib\n",
    "!{sys.executable} -m pip install spacy\n",
    "!{sys.executable} -m pip install lxml\n",
    "!{sys.executable} -m pip install treedlib\n",
    "!{sys.executable} -m pip install numba\n",
    "!{sys.executable} -m pip install nltk\n",
    "!{sys.executable} -m pip install numbskull\n",
    "!{sys.executable} -m pip install regex"
   ]
  },
  {
   "cell_type": "code",
   "execution_count": null,
   "metadata": {},
   "outputs": [],
   "source": [
    "# the below is for MacOS\n",
    "!brew install tesseract\n",
    "!brew install ghostscript\n",
    "!brew install imagemagick"
   ]
  },
  {
   "cell_type": "markdown",
   "metadata": {},
   "source": [
    "## Unlink virtual environment"
   ]
  },
  {
   "cell_type": "code",
   "execution_count": 2,
   "metadata": {},
   "outputs": [
    {
     "name": "stdout",
     "output_type": "stream",
     "text": [
      "Available kernels:\r\n",
      "  tensorflow_latest    /Users/john.brandt/Library/Jupyter/kernels/tensorflow_latest\r\n",
      "  python3              /Users/john.brandt/anaconda3/share/jupyter/kernels/python3\r\n"
     ]
    }
   ],
   "source": [
    "!jupyter kernelspec uninstall ENV_NAME"
   ]
  },
  {
   "cell_type": "code",
   "execution_count": null,
   "metadata": {},
   "outputs": [],
   "source": [
    "!conda env remove -n ENV_NAME"
   ]
  }
 ],
 "metadata": {
  "kernelspec": {
   "display_name": "policy-toolkit",
   "language": "python",
   "name": "policy-toolkit"
  },
  "language_info": {
   "codemirror_mode": {
    "name": "ipython",
    "version": 3
   },
   "file_extension": ".py",
   "mimetype": "text/x-python",
   "name": "python",
   "nbconvert_exporter": "python",
   "pygments_lexer": "ipython3",
   "version": "3.6.6"
  }
 },
 "nbformat": 4,
 "nbformat_minor": 2
}
