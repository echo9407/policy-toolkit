{
 "cells": [
  {
   "cell_type": "markdown",
   "metadata": {},
   "source": [
    "# Manual data labeling\n",
    "\n",
    "Simple notebook to load in a CSV output from the R package `retrieveR` (WRI, 2018), subset data, and attach manual labels to create a gold standard dataset.\n",
    "\n",
    "Last updated: July 24, 2019"
   ]
  },
  {
   "cell_type": "code",
   "execution_count": 8,
   "metadata": {},
   "outputs": [],
   "source": [
    "import pandas as pd\n",
    "data = pd.read_csv(\"../data/interim/malawi-results.csv\")"
   ]
  },
  {
   "cell_type": "code",
   "execution_count": 9,
   "metadata": {},
   "outputs": [
    {
     "data": {
      "text/plain": [
       "(287, 8)"
      ]
     },
     "execution_count": 9,
     "metadata": {},
     "output_type": "execute_result"
    }
   ],
   "source": [
    "# Subset data for classification based on cosine similarity metric\n",
    "\n",
    "data = data[data['results'] >= 0.40]\n",
    "#data = data[data['results'] < 0.45]# & (data['results'] <= 0.45)]\n",
    "data.shape"
   ]
  },
  {
   "cell_type": "markdown",
   "metadata": {},
   "source": [
    "### Loop through subsetted data and manually classify text"
   ]
  },
  {
   "cell_type": "code",
   "execution_count": 10,
   "metadata": {},
   "outputs": [],
   "source": [
    "# label as i: incentive\n",
    "# n: neutral\n",
    "# d: disincentive\n",
    "from IPython.display import clear_output\n",
    "\n",
    "results = []\n",
    "for i, val in enumerate(data['sentences']):\n",
    "    print(i, val)\n",
    "    results.append(input(\"Yes or no\"))\n",
    "    clear_output()"
   ]
  },
  {
   "cell_type": "code",
   "execution_count": 12,
   "metadata": {},
   "outputs": [],
   "source": [
    "data['class'] = results\n",
    "data.to_csv(\"../data/interim/malawi-positive.csv\")"
   ]
  }
 ],
 "metadata": {
  "kernelspec": {
   "display_name": "Python 3",
   "language": "python3",
   "name": "python3"
  },
  "language_info": {
   "codemirror_mode": {
    "name": "ipython",
    "version": 3
   },
   "file_extension": ".py",
   "mimetype": "text/x-python",
   "name": "python",
   "nbconvert_exporter": "python",
   "pygments_lexer": "ipython3",
   "version": "3.6.8"
  }
 },
 "nbformat": 4,
 "nbformat_minor": 2
}
