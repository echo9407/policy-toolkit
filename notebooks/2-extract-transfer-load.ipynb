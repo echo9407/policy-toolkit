{
 "cells": [
  {
   "cell_type": "code",
   "execution_count": null,
   "metadata": {},
   "outputs": [],
   "source": [
    "%%javascript\n",
    "Jupyter.notebook.session.restart({kernel_name: 'policy-toolkit'})"
   ]
  },
  {
   "cell_type": "code",
   "execution_count": 187,
   "metadata": {},
   "outputs": [],
   "source": [
    "from PIL import Image\n",
    "from wand.image import Image as wimage\n",
    "import os\n",
    "import io\n",
    "import pytesseract\n",
    "import numpy as np\n",
    "import re\n",
    "\n",
    "filepath = \"../data/raw/Agriculture Rules.pdf\"\n",
    "\n",
    "class Document:\n",
    "    def __init__(self, path):\n",
    "        self.path = path\n",
    "    \n",
    "    def get_images(self):\n",
    "        page_images = []\n",
    "        with wimage(filename=self.path, resolution=200) as img:\n",
    "            for page_wand_image_seq in img.sequence:\n",
    "                page_wand_image = wimage(page_wand_image_seq)\n",
    "                page_jpeg_bytes = page_wand_image.make_blob(format=\"jpeg\")\n",
    "                page_jpeg_data = io.BytesIO(page_jpeg_bytes)\n",
    "                page_image = Image.open(page_jpeg_data)\n",
    "                page_images.append(page_image)\n",
    "        self.images = page_images\n",
    "        \n",
    "    def process_images(self):\n",
    "        self.text = np.array([pytesseract.image_to_string(x) for x in self.images])\n",
    "        self.pages = [x for x in range(len(self.images))]\n",
    "        \n",
    "    def split_lines(self):\n",
    "        self.lines = {}\n",
    "        counter = 0\n",
    "        pages = [re.split('\\n', self.text[i]) for i in self.pages]\n",
    "        for x, page in enumerate(pages):\n",
    "            for i, line in enumerate(page):\n",
    "                self.lines[i + counter] = [line, x]\n",
    "            counter += len(page)\n",
    "            \n",
    "    def combine_sentences(self):\n",
    "        poplist = []\n",
    "        max_key = len(self.lines) - 1\n",
    "        for i in self.lines.keys():\n",
    "            line = self.lines[i][0]\n",
    "            if len(line) > 1:\n",
    "                if line[-1] != '.':\n",
    "                    self.lines[i][0] = line + \" \" + self.lines.get(i + 1, ' ')[0]\n",
    "                    poplist.append(i + 1)\n",
    "        for x in poplist:\n",
    "            del self.lines[min(x, max_key)]"
   ]
  },
  {
   "cell_type": "code",
   "execution_count": 188,
   "metadata": {},
   "outputs": [],
   "source": [
    "doc1 = Document(path = filepath)\n",
    "doc1.get_images()\n",
    "doc1.process_images()\n",
    "doc1.split_lines()\n",
    "doc1.combine_sentences()"
   ]
  }
 ],
 "metadata": {
  "kernelspec": {
   "display_name": "policy-toolkit",
   "language": "python",
   "name": "policy-toolkit"
  },
  "language_info": {
   "codemirror_mode": {
    "name": "ipython",
    "version": 3
   },
   "file_extension": ".py",
   "mimetype": "text/x-python",
   "name": "python",
   "nbconvert_exporter": "python",
   "pygments_lexer": "ipython3",
   "version": "3.7.3"
  }
 },
 "nbformat": 4,
 "nbformat_minor": 2
}
