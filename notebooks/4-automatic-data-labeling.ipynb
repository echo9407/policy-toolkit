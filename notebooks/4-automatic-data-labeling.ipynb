{
 "cells": [
  {
   "cell_type": "markdown",
   "metadata": {},
   "source": [
    "# Automatic data labeling with snorkel-metal\n",
    "\n",
    "John Brandt\n",
    "\n",
    "\n",
    "Last Updated: August 15, 2019"
   ]
  },
  {
   "cell_type": "markdown",
   "metadata": {},
   "source": [
    "## Loading and preprocessing data"
   ]
  },
  {
   "cell_type": "code",
   "execution_count": 35,
   "metadata": {},
   "outputs": [
    {
     "name": "stdout",
     "output_type": "stream",
     "text": [
      "The autoreload extension is already loaded. To reload it, use:\n",
      "  %reload_ext autoreload\n"
     ]
    }
   ],
   "source": [
    "%load_ext autoreload\n",
    "%autoreload 2\n",
    "%matplotlib inline\n",
    "import os\n",
    "\n",
    "import re\n",
    "import pickle\n",
    "import numpy as np\n",
    "import pandas as pd\n",
    "from scipy import sparse\n",
    "from sklearn.metrics import confusion_matrix, f1_score\n",
    "\n",
    "from metal.label_model import LabelModel\n",
    "from metal.analysis import lf_summary, label_coverage\n",
    "from metal.label_model.baselines import MajorityLabelVoter"
   ]
  },
  {
   "cell_type": "code",
   "execution_count": 43,
   "metadata": {},
   "outputs": [],
   "source": [
    "df = pd.read_csv(\"../data/processed/gold_standard.csv\")\n",
    "\n",
    "df['class'] = df['class'].map({'n' : 1, 'i' : 3, 'd' : 2})\n"
   ]
  },
  {
   "cell_type": "code",
   "execution_count": null,
   "metadata": {},
   "outputs": [],
   "source": [
    "# currently gold standard has been validated up to sample 80\n",
    "\n",
    "#df['class'][df['class'].isna()] = 1\n",
    "#df['class'] = df['class'].map({1.0 : 'n', 3 : 'i', 2: 'd'})\n",
    "for i in range(50, 100):\n",
    "    print(i, df['class'][i], '\\t', df['sentences'][i], '\\n')"
   ]
  },
  {
   "cell_type": "code",
   "execution_count": null,
   "metadata": {},
   "outputs": [],
   "source": [
    "# disincentive -> contains finance words and a negative sentiment\n",
    "# \"offer financial services\"\n",
    "# \"supporting innovation\"\n",
    "to_update = {6: 'i', 21: 'i', 26: 'i',\n",
    "            27: 'i', 31: 'i',\n",
    "            42: 'i', 50: 'i',\n",
    "            }"
   ]
  },
  {
   "cell_type": "markdown",
   "metadata": {},
   "source": [
    "## Creating labeling functions"
   ]
  },
  {
   "cell_type": "code",
   "execution_count": 11,
   "metadata": {},
   "outputs": [],
   "source": [
    "ABSTAIN = 0\n",
    "NEUTRAL = 1\n",
    "NEGATIVE = 2\n",
    "POSITIVE = 3\n",
    "\n",
    "from nltk.stem import PorterStemmer\n",
    "ps = PorterStemmer()\n",
    "\n",
    "def words_in_string(word_list, a_string):\n",
    "    return list(set(word_list).intersection(a_string))\n",
    "\n",
    "def split_and_search(string, l1 = ['finance', 'money'], l2 = ['provide', 'improve']):\n",
    "    string = string.split(' ')\n",
    "    string = [ps.stem(x) for x in string]\n",
    "    \n",
    "    l1 = [ps.stem(x) for x in l1]\n",
    "    l2 = [ps.stem(x) for x in l2]\n",
    "    \n",
    "    list1 = words_in_string(l1, string)\n",
    "    list2 = words_in_string(l2, string)\n",
    "    \n",
    "    loc1 = [i for i,val in enumerate(string) if val in list1]\n",
    "    loc2 = [i for i,val in enumerate(string) if val in list2]\n",
    "    if loc1 and loc2:\n",
    "        min_diff = min([abs(x - y) for x, y in zip(sorted(loc1), sorted(loc2))])\n",
    "        return min_diff\n",
    "    else:\n",
    "        return 999\n",
    "\n",
    "verbs = ['improve', 'provide', 'establish', 'assist', 'raise', 'facilitate', 'increase',\n",
    "        'mobilize', 'encourage', 'offer']\n",
    "\n",
    "nouns = ['fund', 'investment', 'finance', 'credit', 'budget', 'resource']\n",
    "\n",
    "neg_verbs_adj = ['limit', 'inadequate', 'insufficient', 'mismanage', 'little', 'high', 'lack', 'challenge']\n",
    "\n",
    "neg_nouns = ['progress', 'cost', 'budget', 'credit', 'resource', 'investment', 'fund', 'interest',\n",
    "            'finance', 'challenge', 'loan', 'capital']\n",
    "\n",
    "def less_than_5(text):\n",
    "    diff = split_and_search(text, l1 = verbs, l2 = nouns)\n",
    "    return POSITIVE if diff < 10 else ABSTAIN\n",
    "\n",
    "def negative_proximity(text):\n",
    "    diff = split_and_search(text, l1 = neg_verbs_adj, l2 = neg_nouns)\n",
    "    return NEGATIVE if diff < 5 else ABSTAIN"
   ]
  },
  {
   "cell_type": "code",
   "execution_count": 18,
   "metadata": {},
   "outputs": [],
   "source": [
    "#TODO: Refine and granularize the LFs\n",
    "#TODO: Go through false positives and update original labels --- Some of them are incorrect\n",
    "#TODO: create tokenizing function with keras\n",
    "\n",
    "to_add = ['reduce costs',\n",
    "         'offer affordable','devolution fund', 'financing commitment',\n",
    "          'increase resource allocation', 'will be financed by', 'delivery of financ',\n",
    "         'encourage private investment', 'will be financed', 'delivery of financial']\n",
    "\n",
    "TYPES_OF_FUNDS = r\"\"\"\\b(microfinance|micro finance|grants|bilateral|multilateral|capital|concessional|\n",
    "                            results based|philanthropic|carbon market|institutional finance|\n",
    "                            budget allocation|budgetary allocation|financial assistance|micro financ|\n",
    "                            funding mechanism|tax break|grant fund|youth enterprise fund|devolution fund|\n",
    "                            financing commitment|international finance|green climate fund| sustainable financ|\n",
    "                            development fund|adequate fund|private sector investment|forestry investment|\n",
    "                            tax incentive|access to credit|devolved fund|revolving fund|financial mechanism|\n",
    "                            budget support|taxation incentive|payment for ecosystem)\"\"\"\n",
    "\n",
    "NEUTRAL_FINANCE = r\"\"\"\\b(credit|investment|fund|grants|capital|support)\"\"\"\n",
    "\n",
    "CREATING_FUNDS = r\"\"\"\\b(financial support|funded by|provide funding|mobilize|provide investment|\n",
    "                        offer funds|offer incentive|will be funded|increase investment|funding support|\n",
    "                        budget support|taxation incentives|\n",
    "                        mobilization of financ|encourage investment|facilitate investment|\n",
    "                        improving the lending|raise funds|new investment|green growth|mobilising resources|earmark|\n",
    "                        obtain funds|funds will be provided|additional funds|increase in investment|\n",
    "                        fund established|access funds|access finance|mobilize finance|\n",
    "                        provide finance|establish fund|establishment of an innovation fund|\n",
    "                        offer affordable)\"\"\"\n",
    "\n",
    "REDUCE_WORDS = r'''\\b(reduce cost|lower cost|remove barriers|cost reduction|cost effective)'''\n",
    "\n",
    "            \n",
    "INCENTIVE = r\"\"\"\\b(market connection|low transaction cost|payment system|funded by|provide funding|concessional|\n",
    "                    results based|mobilize|carbon market|\n",
    "                    provide investment opportunities|offer incentives|generated funds|\n",
    "                    qualify for grants|budgetary allocation|credit packages|increase investment|\n",
    "                    carbon credit|transfer pricing|mobilization of financ|encourage investment|\n",
    "                    facilitate investment|access to finance|increased revenue|improving the lending|\n",
    "                    market access|raise funds|access of|cost reduction|new investments|green growth|\n",
    "                    mobilising resources|micro financing|accessing funds|institutional finance|\n",
    "                    obtain funds|funds will be provided|tax free|additional funds|\n",
    "                    financial incentives will)\"\"\"\n",
    "\n",
    "NEG_WORDS = r\"\"\"\\b(barriers|levied|evasion|penalty|excise|seizure|fee|disincentive|\n",
    "                    not enough|fine|hampered|challenges|impede|guilty|\n",
    "                    there is not|failed|there has not been|obstacle|corruption)\"\"\"\n",
    "\n",
    "#neutral_finance\n",
    "#neutral_incentives\n",
    "#neutral_access\n",
    "\n",
    "def neutral_funds(text):\n",
    "    funds = re.search(CREATING_FUNDS, text)\n",
    "    return ABSTAIN if funds else NEUTRAL\n",
    "\n",
    "def neutral(text):\n",
    "    inc = re.search(INCENTIVE, text)\n",
    "    cre = re.search(TYPES_OF_FUNDS, text)\n",
    "    dis = re.search(NEG_WORDS, text)\n",
    "    create = re.search(CREATING_FUNDS, text)\n",
    "    return ABSTAIN if inc or dis or cre or create else NEUTRAL\n",
    "\n",
    "def reduce(text):\n",
    "    return POSITIVE if re.search(REDUCE_WORDS, text) else ABSTAIN\n",
    "\n",
    "def contains_incentive_words(text):\n",
    "    return POSITIVE if re.search(INCENTIVE, text) else ABSTAIN\n",
    "\n",
    "def negative(text):\n",
    "    return NEGATIVE if re.search(NEG_WORDS, text) else ABSTAIN\n",
    "\n",
    "def contains_funding_types(text):\n",
    "    return POSITIVE if re.search(TYPES_OF_FUNDS, text) else ABSTAIN\n",
    "\n",
    "def contains_fund_creation(text):\n",
    "    return POSITIVE if re.search(CREATING_FUNDS, text) else ABSTAIN\n",
    "\n",
    "def neutral_finance(text):\n",
    "    return POSITIVE if re.search(NEUTRAL_FINANCE, text) else ABSTAIN\n",
    "\n",
    "LFs = [\n",
    "    contains_incentive_words,\n",
    "    contains_funding_types,\n",
    "    contains_fund_creation,\n",
    "    negative,\n",
    "    neutral,\n",
    "    reduce,\n",
    "    neutral_funds,\n",
    "    less_than_5,\n",
    "    negative_proximity,\n",
    "]\n",
    "\n",
    "LF_names = [\n",
    "    'incentive',\n",
    "    'types',\n",
    "    'creation',\n",
    "    'negative',\n",
    "    'neutral',\n",
    "    'reduce',\n",
    "    'neutral_funds',\n",
    "    'less_than_5',\n",
    "    'negative_prox'\n",
    "]"
   ]
  },
  {
   "cell_type": "code",
   "execution_count": 19,
   "metadata": {},
   "outputs": [],
   "source": [
    "def make_Ls_matrix(data, LFs):\n",
    "    noisy_labels = np.empty((len(data), len(LFs)))\n",
    "    for i, row in data.iteritems():\n",
    "        for j, lf in enumerate(LFs):\n",
    "            noisy_labels[i][j] = lf(row.lower())\n",
    "    return noisy_labels\n",
    "\n",
    "LF_matrix = make_Ls_matrix(df['sentences'], LFs)\n",
    "gold_standard = np.array(df['class'])\n",
    "gold_standard = [np.int(x) for x in gold_standard]\n",
    "\n",
    "LF_matrix = LF_matrix.astype(int)"
   ]
  },
  {
   "cell_type": "code",
   "execution_count": 20,
   "metadata": {},
   "outputs": [
    {
     "data": {
      "text/html": [
       "<div>\n",
       "<style scoped>\n",
       "    .dataframe tbody tr th:only-of-type {\n",
       "        vertical-align: middle;\n",
       "    }\n",
       "\n",
       "    .dataframe tbody tr th {\n",
       "        vertical-align: top;\n",
       "    }\n",
       "\n",
       "    .dataframe thead th {\n",
       "        text-align: right;\n",
       "    }\n",
       "</style>\n",
       "<table border=\"1\" class=\"dataframe\">\n",
       "  <thead>\n",
       "    <tr style=\"text-align: right;\">\n",
       "      <th></th>\n",
       "      <th>j</th>\n",
       "      <th>Polarity</th>\n",
       "      <th>Coverage</th>\n",
       "      <th>Overlaps</th>\n",
       "      <th>Conflicts</th>\n",
       "      <th>Correct</th>\n",
       "      <th>Incorrect</th>\n",
       "      <th>Emp. Acc.</th>\n",
       "    </tr>\n",
       "  </thead>\n",
       "  <tbody>\n",
       "    <tr>\n",
       "      <th>incentive</th>\n",
       "      <td>0</td>\n",
       "      <td>3</td>\n",
       "      <td>0.085189</td>\n",
       "      <td>0.085189</td>\n",
       "      <td>0.048403</td>\n",
       "      <td>74</td>\n",
       "      <td>14</td>\n",
       "      <td>0.840909</td>\n",
       "    </tr>\n",
       "    <tr>\n",
       "      <th>types</th>\n",
       "      <td>1</td>\n",
       "      <td>3</td>\n",
       "      <td>0.137464</td>\n",
       "      <td>0.137464</td>\n",
       "      <td>0.121007</td>\n",
       "      <td>106</td>\n",
       "      <td>36</td>\n",
       "      <td>0.746479</td>\n",
       "    </tr>\n",
       "    <tr>\n",
       "      <th>creation</th>\n",
       "      <td>2</td>\n",
       "      <td>3</td>\n",
       "      <td>0.060019</td>\n",
       "      <td>0.049371</td>\n",
       "      <td>0.001936</td>\n",
       "      <td>55</td>\n",
       "      <td>7</td>\n",
       "      <td>0.887097</td>\n",
       "    </tr>\n",
       "    <tr>\n",
       "      <th>negative</th>\n",
       "      <td>3</td>\n",
       "      <td>2</td>\n",
       "      <td>0.067764</td>\n",
       "      <td>0.067764</td>\n",
       "      <td>0.067764</td>\n",
       "      <td>26</td>\n",
       "      <td>44</td>\n",
       "      <td>0.371429</td>\n",
       "    </tr>\n",
       "    <tr>\n",
       "      <th>neutral</th>\n",
       "      <td>4</td>\n",
       "      <td>1</td>\n",
       "      <td>0.735721</td>\n",
       "      <td>0.735721</td>\n",
       "      <td>0.057115</td>\n",
       "      <td>588</td>\n",
       "      <td>172</td>\n",
       "      <td>0.773684</td>\n",
       "    </tr>\n",
       "    <tr>\n",
       "      <th>reduce</th>\n",
       "      <td>5</td>\n",
       "      <td>3</td>\n",
       "      <td>0.016457</td>\n",
       "      <td>0.016457</td>\n",
       "      <td>0.014521</td>\n",
       "      <td>11</td>\n",
       "      <td>6</td>\n",
       "      <td>0.647059</td>\n",
       "    </tr>\n",
       "    <tr>\n",
       "      <th>neutral_funds</th>\n",
       "      <td>6</td>\n",
       "      <td>1</td>\n",
       "      <td>0.939981</td>\n",
       "      <td>0.939981</td>\n",
       "      <td>0.261375</td>\n",
       "      <td>639</td>\n",
       "      <td>332</td>\n",
       "      <td>0.658084</td>\n",
       "    </tr>\n",
       "    <tr>\n",
       "      <th>less_than_5</th>\n",
       "      <td>7</td>\n",
       "      <td>3</td>\n",
       "      <td>0.095837</td>\n",
       "      <td>0.095837</td>\n",
       "      <td>0.068732</td>\n",
       "      <td>73</td>\n",
       "      <td>26</td>\n",
       "      <td>0.737374</td>\n",
       "    </tr>\n",
       "    <tr>\n",
       "      <th>negative_prox</th>\n",
       "      <td>8</td>\n",
       "      <td>2</td>\n",
       "      <td>0.021297</td>\n",
       "      <td>0.021297</td>\n",
       "      <td>0.021297</td>\n",
       "      <td>12</td>\n",
       "      <td>10</td>\n",
       "      <td>0.545455</td>\n",
       "    </tr>\n",
       "  </tbody>\n",
       "</table>\n",
       "</div>"
      ],
      "text/plain": [
       "               j  Polarity  Coverage  Overlaps  Conflicts  Correct  Incorrect  \\\n",
       "incentive      0         3  0.085189  0.085189   0.048403       74         14   \n",
       "types          1         3  0.137464  0.137464   0.121007      106         36   \n",
       "creation       2         3  0.060019  0.049371   0.001936       55          7   \n",
       "negative       3         2  0.067764  0.067764   0.067764       26         44   \n",
       "neutral        4         1  0.735721  0.735721   0.057115      588        172   \n",
       "reduce         5         3  0.016457  0.016457   0.014521       11          6   \n",
       "neutral_funds  6         1  0.939981  0.939981   0.261375      639        332   \n",
       "less_than_5    7         3  0.095837  0.095837   0.068732       73         26   \n",
       "negative_prox  8         2  0.021297  0.021297   0.021297       12         10   \n",
       "\n",
       "               Emp. Acc.  \n",
       "incentive       0.840909  \n",
       "types           0.746479  \n",
       "creation        0.887097  \n",
       "negative        0.371429  \n",
       "neutral         0.773684  \n",
       "reduce          0.647059  \n",
       "neutral_funds   0.658084  \n",
       "less_than_5     0.737374  \n",
       "negative_prox   0.545455  "
      ]
     },
     "execution_count": 20,
     "metadata": {},
     "output_type": "execute_result"
    }
   ],
   "source": [
    "lf_summary(sparse.csr_matrix(LF_matrix),\n",
    "           Y=gold_standard,\n",
    "           lf_names=LF_names)"
   ]
  },
  {
   "cell_type": "code",
   "execution_count": 15,
   "metadata": {},
   "outputs": [
    {
     "data": {
      "text/plain": [
       "1.0"
      ]
     },
     "execution_count": 15,
     "metadata": {},
     "output_type": "execute_result"
    }
   ],
   "source": [
    "label_coverage(LF_matrix)"
   ]
  },
  {
   "cell_type": "markdown",
   "metadata": {},
   "source": [
    "## Baseline and label model"
   ]
  },
  {
   "cell_type": "code",
   "execution_count": 21,
   "metadata": {},
   "outputs": [
    {
     "name": "stdout",
     "output_type": "stream",
     "text": [
      "Computing O...\n",
      "Estimating \\mu...\n",
      "[200 epo]: TRAIN:[loss=0.036]\n",
      "[400 epo]: TRAIN:[loss=0.029]\n",
      "[600 epo]: TRAIN:[loss=0.024]\n",
      "[800 epo]: TRAIN:[loss=0.020]\n",
      "[1000 epo]: TRAIN:[loss=0.017]\n",
      "Finished Training\n"
     ]
    }
   ],
   "source": [
    "label_model = LabelModel(k=3, seed=42)\n",
    "label_model.train_model(LF_matrix,\n",
    "                        Y_dev=gold_standard,\n",
    "                        n_epochs=1000,\n",
    "                        lr=0.001,\n",
    "                        log_train_every=200)"
   ]
  },
  {
   "cell_type": "code",
   "execution_count": 22,
   "metadata": {},
   "outputs": [
    {
     "name": "stdout",
     "output_type": "stream",
     "text": [
      "Accuracy: 0.756\n",
      "Precision: 0.748\n",
      "Recall: 0.949\n",
      "F1: 0.837\n",
      "        y=1    y=2    y=3   \n",
      " l=1    613    39     167   \n",
      " l=2     0      0      0    \n",
      " l=3    33     13     168   \n"
     ]
    }
   ],
   "source": [
    "scores = label_model.score((LF_matrix, gold_standard),\n",
    "                           metric=['accuracy','precision', 'recall', 'f1'])"
   ]
  },
  {
   "cell_type": "code",
   "execution_count": 33,
   "metadata": {},
   "outputs": [
    {
     "data": {
      "image/png": "[encoded data removed]",
      "text/plain": [
       "<Figure size 432x288 with 1 Axes>"
      ]
     },
     "metadata": {
      "needs_background": "light"
     },
     "output_type": "display_data"
    }
   ],
   "source": [
    "from metal.contrib.visualization.analysis import (\n",
    "    plot_predictions_histogram, \n",
    "    plot_probabilities_histogram,\n",
    ")\n",
    "\n",
    "Y_train_ps = label_model.predict_proba(LF_matrix)\n",
    "Y_snorkel = label_model.predict(LF_matrix)\n",
    "np.save(\"../data/interim/snorkel_proba\", Y_train_ps)\n",
    "\n",
    "plot_predictions_histogram(gold_standard,\n",
    "                           label_model.predict(LF_matrix),\n",
    "                           title=\"Label Distribution\")"
   ]
  },
  {
   "cell_type": "code",
   "execution_count": 293,
   "metadata": {},
   "outputs": [],
   "source": [
    "false = np.where(Y_snorkel != df['class'])\n",
    "false_negatives = [x for x in false[0] if df['class'][x] == 2]\n",
    "#false_positives = [x for x in false[0] if df['class'][x] == 3] # TRUE: Neutral, PRED: Incentive"
   ]
  },
  {
   "cell_type": "code",
   "execution_count": null,
   "metadata": {},
   "outputs": [],
   "source": [
    "f_to_p = []\n",
    "for x in false_negatives:\n",
    "    print(x, df['sentences'][x], df['class'][x], Y_snorkel[x])"
   ]
  }
 ],
 "metadata": {
  "kernelspec": {
   "display_name": "policy-toolkit",
   "language": "python",
   "name": "policy-toolkit"
  },
  "language_info": {
   "codemirror_mode": {
    "name": "ipython",
    "version": 3
   },
   "file_extension": ".py",
   "mimetype": "text/x-python",
   "name": "python",
   "nbconvert_exporter": "python",
   "pygments_lexer": "ipython3",
   "version": "3.7.3"
  }
 },
 "nbformat": 4,
 "nbformat_minor": 2
}
