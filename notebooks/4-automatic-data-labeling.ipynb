{
 "cells": [
  {
   "cell_type": "code",
   "execution_count": null,
   "metadata": {},
   "outputs": [],
   "source": [
    "import sys\n",
    "#!{sys.executable} -m pip install snorkel-metal\n",
    "#!{sys.executable} -m pip install tensorboardX\n",
    "#!{sys.executable} -m pip install git+https://github.com/HazyResearch/snorkel\n",
    "#!{sys.executable} -m pip install sqlalchemy\n",
    "#!{sys.executable} -m pip install matplotlib\n",
    "#!{sys.executable} -m pip install spacy\n",
    "#!{sys.executable} -m pip install lxml\n",
    "#!{sys.executable} -m pip install treedlib\n",
    "#!{sys.executable} -m pip install numba\n",
    "#!{sys.executable} -m pip install nltk"
   ]
  },
  {
   "cell_type": "markdown",
   "metadata": {},
   "source": [
    "## Preprocessing"
   ]
  },
  {
   "cell_type": "code",
   "execution_count": 89,
   "metadata": {},
   "outputs": [
    {
     "name": "stdout",
     "output_type": "stream",
     "text": [
      "The autoreload extension is already loaded. To reload it, use:\n",
      "  %reload_ext autoreload\n"
     ]
    }
   ],
   "source": [
    "%load_ext autoreload\n",
    "%autoreload 2\n",
    "%matplotlib inline\n",
    "import os\n",
    "\n",
    "import re\n",
    "import pickle\n",
    "import numpy as np\n",
    "import pandas as pd\n",
    "from scipy import sparse\n",
    "from sklearn.metrics import confusion_matrix, f1_score\n",
    "\n",
    "from metal.label_model import LabelModel\n",
    "from metal.analysis import lf_summary, label_coverage\n",
    "from metal.label_model.baselines import MajorityLabelVoter"
   ]
  },
  {
   "cell_type": "code",
   "execution_count": 263,
   "metadata": {},
   "outputs": [],
   "source": [
    "import pandas as pd\n",
    "df = pd.read_csv(\"../data/interim/kenya-positive.csv\")\n",
    "df_negative = pd.read_csv(\"../data/interim/kenya-neutral.csv\")\n",
    "df = df.append(df_negative, ignore_index = True)\n",
    "\n",
    "\n",
    "df['label'] = range(0, len(df))\n",
    "df = df[['label', 'sentences', 'class']]\n",
    "df.reset_index()\n",
    "df.to_csv('../data/interim/kenya.tsv', sep = '\\t', index = False)"
   ]
  },
  {
   "cell_type": "code",
   "execution_count": 264,
   "metadata": {},
   "outputs": [],
   "source": [
    "df['class'] = df['class'].map({'n' : 1, 'i' : 2, 'd' : 1})"
   ]
  },
  {
   "cell_type": "code",
   "execution_count": null,
   "metadata": {},
   "outputs": [],
   "source": [
    "[x for x in df['sentences'][df['class'] == 1]]"
   ]
  },
  {
   "cell_type": "markdown",
   "metadata": {},
   "source": [
    "## Creating labeling functions"
   ]
  },
  {
   "cell_type": "code",
   "execution_count": 166,
   "metadata": {},
   "outputs": [],
   "source": [
    "negative_words = {'failed', 'there is not', 'there has not been', 'inadequate',\n",
    "                 'obstacles', 'barriers', 'obstacles'}\n",
    "\n",
    "disincentive = {'high transaction costs', 'barriers', 'levied', 'evasion', \n",
    "                'penalty', 'excise', 'seizure', 'fee', 'disincentive'}\n",
    "\n",
    "# Look for postitive words before incentives or the lack of negative words before incentives\n"
   ]
  },
  {
   "cell_type": "code",
   "execution_count": 265,
   "metadata": {},
   "outputs": [],
   "source": [
    "ABSTAIN = 1\n",
    "POSITIVE = 2\n",
    "NEGATIVE = 3\n",
    "            \n",
    "INCENTIVE = r\"\"\"\\b(fund established|market connection|low transaction cost|microfinance|payment system|\n",
    "                    financial support|grants|funded by|provide funding|support|bilateral|multilateral|\n",
    "                    capital|concessional|results based|mobilize|philanthropic|finance|fund|credit|carbon market|\n",
    "                    provide investment opportunities|offer incentives|generated funds|\n",
    "                    qualify for grants|will be funded|budgetary allocation|credit packages|increase investment|\n",
    "                    carbon credit|transfer pricing|mobilization of financ|encourage investment|\n",
    "                    facilitate investment|access to finance|increased revenue|improving the lending|\n",
    "                    market access|raise funds|access of|cost reduction|new investments|green growth|\n",
    "                    mobilising resources)\"\"\"\n",
    "\n",
    "POS_WORDS = r'''\\b(improv|generat|qualifi|increas|facilitat|improv|establish|creat|provid|facilitat|\n",
    "                   enabl|enhanc|mobiliz|implement|promot)'''\n",
    "\n",
    "def contains_incentive_words(text):\n",
    "    return POSITIVE if re.search(INCENTIVE, text) else ABSTAIN\n",
    "\n",
    "def contains_positive_expressions(text):\n",
    "    return POSITIVE if re.search(POS_WORDS, text) else ABSTAIN\n",
    "\n",
    "LFs = [\n",
    "    contains_positive_expressions,\n",
    "    contains_incentive_words,\n",
    "]\n",
    "\n",
    "LF_names = [\n",
    "    'positive',\n",
    "    'incentive',\n",
    "]"
   ]
  },
  {
   "cell_type": "code",
   "execution_count": 266,
   "metadata": {},
   "outputs": [],
   "source": [
    "def make_Ls_matrix(data, LFs):\n",
    "    noisy_labels = np.empty((len(data), len(LFs)))\n",
    "    for i, row in data.iteritems():\n",
    "        for j, lf in enumerate(LFs):\n",
    "            noisy_labels[i][j] = lf(row.lower())\n",
    "    return noisy_labels"
   ]
  },
  {
   "cell_type": "code",
   "execution_count": 267,
   "metadata": {},
   "outputs": [],
   "source": [
    "LF_matrix = make_Ls_matrix(df['sentences'], LFs)\n",
    "gold_standard = np.array(df['class'])"
   ]
  },
  {
   "cell_type": "code",
   "execution_count": 268,
   "metadata": {},
   "outputs": [
    {
     "data": {
      "text/html": [
       "<div>\n",
       "<style scoped>\n",
       "    .dataframe tbody tr th:only-of-type {\n",
       "        vertical-align: middle;\n",
       "    }\n",
       "\n",
       "    .dataframe tbody tr th {\n",
       "        vertical-align: top;\n",
       "    }\n",
       "\n",
       "    .dataframe thead th {\n",
       "        text-align: right;\n",
       "    }\n",
       "</style>\n",
       "<table border=\"1\" class=\"dataframe\">\n",
       "  <thead>\n",
       "    <tr style=\"text-align: right;\">\n",
       "      <th></th>\n",
       "      <th>j</th>\n",
       "      <th>Polarity</th>\n",
       "      <th>Coverage</th>\n",
       "      <th>Overlaps</th>\n",
       "      <th>Conflicts</th>\n",
       "      <th>Correct</th>\n",
       "      <th>Incorrect</th>\n",
       "      <th>Emp. Acc.</th>\n",
       "    </tr>\n",
       "  </thead>\n",
       "  <tbody>\n",
       "    <tr>\n",
       "      <th>positive</th>\n",
       "      <td>0</td>\n",
       "      <td>[1.0, 2.0]</td>\n",
       "      <td>1.0</td>\n",
       "      <td>1.0</td>\n",
       "      <td>0.342593</td>\n",
       "      <td>258</td>\n",
       "      <td>174</td>\n",
       "      <td>0.597222</td>\n",
       "    </tr>\n",
       "    <tr>\n",
       "      <th>incentive</th>\n",
       "      <td>1</td>\n",
       "      <td>[1.0, 2.0]</td>\n",
       "      <td>1.0</td>\n",
       "      <td>1.0</td>\n",
       "      <td>0.342593</td>\n",
       "      <td>356</td>\n",
       "      <td>76</td>\n",
       "      <td>0.824074</td>\n",
       "    </tr>\n",
       "  </tbody>\n",
       "</table>\n",
       "</div>"
      ],
      "text/plain": [
       "           j    Polarity  Coverage  Overlaps  Conflicts  Correct  Incorrect  \\\n",
       "positive   0  [1.0, 2.0]       1.0       1.0   0.342593      258        174   \n",
       "incentive  1  [1.0, 2.0]       1.0       1.0   0.342593      356         76   \n",
       "\n",
       "           Emp. Acc.  \n",
       "positive    0.597222  \n",
       "incentive   0.824074  "
      ]
     },
     "execution_count": 268,
     "metadata": {},
     "output_type": "execute_result"
    }
   ],
   "source": [
    "lf_summary(sparse.csr_matrix(LF_matrix),\n",
    "           Y=gold_standard,\n",
    "           lf_names=LF_names)"
   ]
  },
  {
   "cell_type": "code",
   "execution_count": 269,
   "metadata": {},
   "outputs": [
    {
     "name": "stdout",
     "output_type": "stream",
     "text": [
      "Majority Label Voter Metrics:\n",
      "Accuracy: 0.720\n",
      "Precision: 0.964\n",
      "Recall: 0.685\n",
      "F1: 0.801\n",
      "        y=1    y=2   \n",
      " l=1    243     9    \n",
      " l=2    112    68    \n"
     ]
    }
   ],
   "source": [
    "from metal.label_model.baselines import MajorityLabelVoter\n",
    "\n",
    "mv = MajorityLabelVoter(seed=123)\n",
    "print('Majority Label Voter Metrics:')\n",
    "scores = mv.score((LF_matrix, gold_standard), metric=['accuracy','precision', 'recall', 'f1'])"
   ]
  },
  {
   "cell_type": "code",
   "execution_count": 275,
   "metadata": {},
   "outputs": [
    {
     "name": "stdout",
     "output_type": "stream",
     "text": [
      "Computing O...\n",
      "Estimating \\mu...\n",
      "[100 epo]: TRAIN:[loss=0.040]\n",
      "[200 epo]: TRAIN:[loss=0.036]\n",
      "[300 epo]: TRAIN:[loss=0.032]\n",
      "[400 epo]: TRAIN:[loss=0.029]\n",
      "[500 epo]: TRAIN:[loss=0.025]\n",
      "[600 epo]: TRAIN:[loss=0.021]\n",
      "[700 epo]: TRAIN:[loss=0.018]\n",
      "[800 epo]: TRAIN:[loss=0.014]\n",
      "[900 epo]: TRAIN:[loss=0.011]\n",
      "[1000 epo]: TRAIN:[loss=0.009]\n",
      "Finished Training\n"
     ]
    }
   ],
   "source": [
    "label_model = LabelModel(k=2, seed=42)\n",
    "label_model.train_model(LF_matrix,\n",
    "                        Y_dev=gold_standard,\n",
    "                        n_epochs=1000,\n",
    "                        lr=0.001,\n",
    "                        log_train_every=100)"
   ]
  },
  {
   "cell_type": "code",
   "execution_count": 272,
   "metadata": {},
   "outputs": [
    {
     "name": "stdout",
     "output_type": "stream",
     "text": [
      "Accuracy: 0.831\n",
      "Precision: 0.933\n",
      "Recall: 0.856\n",
      "F1: 0.893\n",
      "        y=1    y=2   \n",
      " l=1    304    22    \n",
      " l=2    51     55    \n"
     ]
    }
   ],
   "source": [
    "scores = label_model.score((LF_matrix, gold_standard), metric=['accuracy','precision', 'recall', 'f1'])"
   ]
  },
  {
   "cell_type": "code",
   "execution_count": 273,
   "metadata": {},
   "outputs": [],
   "source": [
    "Y_train_ps = label_model.predict_proba(LF_matrix)"
   ]
  },
  {
   "cell_type": "code",
   "execution_count": 274,
   "metadata": {},
   "outputs": [
    {
     "data": {
      "image/png": "[encoded data removed]",
      "text/plain": [
       "<Figure size 432x288 with 1 Axes>"
      ]
     },
     "metadata": {
      "needs_background": "light"
     },
     "output_type": "display_data"
    }
   ],
   "source": [
    "from metal.contrib.visualization.analysis import (\n",
    "    plot_predictions_histogram, \n",
    "    plot_probabilities_histogram,\n",
    ")\n",
    "\n",
    "plot_predictions_histogram(gold_standard,\n",
    "                           label_model.predict(LF_matrix),\n",
    "                           title=\"Label Distribution\")"
   ]
  }
 ],
 "metadata": {
  "kernelspec": {
   "display_name": "policy-toolkit",
   "language": "python",
   "name": "policy-toolkit"
  },
  "language_info": {
   "codemirror_mode": {
    "name": "ipython",
    "version": 3
   },
   "file_extension": ".py",
   "mimetype": "text/x-python",
   "name": "python",
   "nbconvert_exporter": "python",
   "pygments_lexer": "ipython3",
   "version": "3.7.3"
  }
 },
 "nbformat": 4,
 "nbformat_minor": 2
}
