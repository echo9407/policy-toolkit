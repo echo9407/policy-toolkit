{
 "cells": [
  {
   "cell_type": "markdown",
   "metadata": {},
   "source": [
    "# Automatic data labeling with snorkel-metal\n",
    "\n",
    "John Brandt\n",
    "\n",
    "\n",
    "Last Updated: August 15, 2019"
   ]
  },
  {
   "cell_type": "markdown",
   "metadata": {},
   "source": [
    "## Loading and preprocessing data"
   ]
  },
  {
   "cell_type": "code",
   "execution_count": 1,
   "metadata": {},
   "outputs": [],
   "source": [
    "%load_ext autoreload\n",
    "%autoreload 2\n",
    "%matplotlib inline\n",
    "import os\n",
    "\n",
    "import re\n",
    "import pickle\n",
    "import numpy as np\n",
    "import pandas as pd\n",
    "from scipy import sparse\n",
    "from sklearn.metrics import confusion_matrix, f1_score\n",
    "\n",
    "from metal.label_model import LabelModel\n",
    "from metal.analysis import lf_summary, label_coverage\n",
    "from metal.label_model.baselines import MajorityLabelVoter"
   ]
  },
  {
   "cell_type": "code",
   "execution_count": 2,
   "metadata": {},
   "outputs": [],
   "source": [
    "import pandas as pd\n",
    "df = pd.read_csv(\"../data/interim/kenya-positive.csv\")\n",
    "df_negative = pd.read_csv(\"../data/interim/kenya-neutral.csv\")\n",
    "df_neutral = pd.read_csv(\"../data/interim/kenya-positive2.csv\")\n",
    "df_india_positive = pd.read_csv(\"../data/interim/india-positive.csv\")\n",
    "df_india_negative = pd.read_csv(\"../data/interim/india-negative.csv\")\n",
    "df_malawi_positive = pd.read_csv(\"../data/interim/malawi-positive.csv\")\n",
    "\n",
    "df = df.append(df_negative, ignore_index = True)\n",
    "df = df.append(df_india_positive, ignore_index = True)\n",
    "df = df.append(df_india_negative, ignore_index = True)\n",
    "df = df.append(df_neutral, ignore_index = True)\n",
    "df = df.append(df_malawi_positive, ignore_index = True)\n",
    "\n",
    "\n",
    "df['label'] = range(0, len(df))\n",
    "df = df[['label', 'sentences', 'class']]\n",
    "df.reset_index()\n",
    "df.to_csv('../data/interim/all.tsv', sep = '\\t', index = False)"
   ]
  },
  {
   "cell_type": "code",
   "execution_count": 3,
   "metadata": {},
   "outputs": [
    {
     "name": "stderr",
     "output_type": "stream",
     "text": [
      "/Users/john.brandt/anaconda3/lib/python3.7/site-packages/ipykernel_launcher.py:2: SettingWithCopyWarning: \n",
      "A value is trying to be set on a copy of a slice from a DataFrame\n",
      "\n",
      "See the caveats in the documentation: http://pandas.pydata.org/pandas-docs/stable/user_guide/indexing.html#returning-a-view-versus-a-copy\n",
      "  \n",
      "/Users/john.brandt/.local/lib/python3.7/site-packages/pandas/core/indexing.py:202: SettingWithCopyWarning: \n",
      "A value is trying to be set on a copy of a slice from a DataFrame\n",
      "\n",
      "See the caveats in the documentation: http://pandas.pydata.org/pandas-docs/stable/user_guide/indexing.html#returning-a-view-versus-a-copy\n",
      "  self._setitem_with_indexer(indexer, value)\n"
     ]
    }
   ],
   "source": [
    "df['class'] = df['class'].map({'n' : 1, 'i' : 3, 'd' : 2})\n",
    "df['class'][df['class'].isna()] = 1\n",
    "to_positive = [28,  46, 48, 49, 82, 121]\n",
    "df['class'].iloc[to_positive] = [3]*len(to_positive)"
   ]
  },
  {
   "cell_type": "code",
   "execution_count": 4,
   "metadata": {},
   "outputs": [],
   "source": [
    "df.to_csv(\"../data/processed/gold_standard.csv\", index = False)"
   ]
  },
  {
   "cell_type": "code",
   "execution_count": 5,
   "metadata": {},
   "outputs": [
    {
     "data": {
      "text/plain": [
       "['access to bank credit by farmers is still a major challenge despite the fact that kenya has a relatively well developed banking system. risks associated with agribusiness coupled with complicated land laws and tenure systems that limit the use of land as collateral make financing agriculture unattractive to the formal banking industry. in addition, corruption, political interference in the operations particularly of state owned banks, and a dysfunctional court system in the past, gave rise to a culture of defaulting that led to high numbers of non performing loans. this development forced many banks to charge their customers, who included farmers, prohibitively high interest rates to remain afloat. limited competition in the banking industry despite the large number of banks, also ensures interest rates remain high. the cost of bank credit and the limited number of banks in rural areas are some of the factors that make it difficult for farmers to access bank credit.',\n",
       " 'after independence, the government set up the agricultural finance corporation to provide long term credit to individuals and groups to purchase farms and to finance farm improvement, as well as seasonal credit for production. by providing suppliers with credit, cooperative societies also supported farmers. these organizations have been mismanaged and run down and are no longer important sources of finance for agriculture. indeed, a large number almost collapsed. today, farmers get credit mainly from cooperatives, ngos and community based lending institutions.',\n",
       " 'inadequate budgetary allocation. insufficient budgetary allocation to the agricultural sector is a key constraint. in 200 3 under the maputo declaration, african heads of state committed to allocate 1 0 per cent of their annual budgets to the agricultural sector. kenya has not yet achieved this target; by 200 8, the sector was receiving 4.5 per cent of the budget. this insufficient allocation has reduced human resources and service delivery by government institutions. reduced effectiveness of extension services. the effectiveness of extension services declined over the last two decades due to use of inappropriate methods and a sharp reduction in operational budgets and human resources in the sector ministries. in particular, livestock extension in asals has been underfinanced. while much has been achieved in the last 5 years, inadequate financial and human resources continue to constrain the sector.',\n",
       " 'are hard pressed to finance inputs and capital investment. a number of microfinance institutions are operating but they tend to increase the cost of credit, reach only a small proportion of smallholder farmers, and provide only short term credit. the formal banking system is just beginning to develop credit facilities particularly suited to smallscale farming.',\n",
       " ' enhancing farmer access to affordable inputs and creditenhancing institutional efficiency and effectiveness in implementation and service delivery the current policy environment is not supportive of private sector led agricultural development. multiple and complex laws and regulations have evolved in the agricultural sector, which do not allow for investment in a liberalized economic environment. appropriate policies should provide for the changed role of government as a facilitator and regulator of agricultural activities.',\n",
       " 'most climate friendly technologies have so far been developed and used in developed countries, from where they are expected to transfer to developing countries through well known channels including trade, foreign direct investment fdic and cross border technology licensing. in order to attract these technologies, the government needs to tackle barriers that have and continue to hinder fdic in the country. these include insufficient human capabilities, high transaction costs, trade and policy barriers as well as institutional limitations such as weak intellectual property protection laws and enforcement.',\n",
       " 'these factors contributed to low attainment of projected gdp growth, and investment and savings targets. in addition, the slow implementation of key economic reforms, such as the policy and legal framework for public private partnerships pops enacted at the end of the plan period, and absence of legislative framework for establishment of special economic zones partly explains the missed sectoral investment and growth targets in agriculture, industry and service sectors of the economy.',\n",
       " 'the government has been implementing four flagship projects during the first mtp namely establishment of special economic zones, creation of producer business groups, creation of wholesale hubs and tier 1 retail markets. these projects have however achieved little progress in their implementation because of inadequate budgetary allocations, the challenge of acquiring appropriate land and absence of enabling legislative framework..',\n",
       " 'value chains and inadequate utilitieswater, energy;inadequate business development support services beds including business trade information, consultancy, counselling and aftercare services;limited access to trade finance for mses   access to affordable trade finance is crucial to the growth of trade sector;long and cumbersome process of acquisition of public land for development projects;influx of counterfeit goods.stringent technical requirements rules of origin in the export markets;inadequate capacity to develop new products, innovation, inventions and value addition on produced goods;under funding of export related activities;erosion of advantages accrued from preferential trade arrangements;minimal market and product diversification. building wholesale hub markets construction of one pilot wholesale hub in marabou to serve as a model for the private sector.',\n",
       " 'access to financial services for industrial development access to long term financing is limited and this has inhibited the competitiveness and growth of the manufacturing sector.',\n",
       " 'budget allocation inadequate budgetary allocation of development funds has hampered the implementation of the various programmes and projects.',\n",
       " \"most of the bop companies in kenya face various challenges that impede their growth and development. this include inability of small firms to enjoy economies of scale; lack of comprehensive policy; regulatory and incentive framework to attract investors; small talent pool; lack of marketing; rigid labour laws for export services; lack of a formalized one stop shop to facilitate the ease of doing business; competition from other countries offering competitive prices due to their comparative advantage occasioned by availability of cheap broadband infrastructure; and lack of knowledge development procedure in various bop companies workforce and other amenities. the government's goal over the plan period is to transform kenya into the opposites hub for east africa region and beyond, building on the progress achieved to connect every kenyan to the new infrastructure and harness ict for efficient and effective government, e commerce, economic growth and job creation for the youth.\",\n",
       " 'the county governments will play a pivotal role in planning and implementation of projects and programmes of the second mtp and kenya vision 203 0 through the preparation and implementation of county integrated development plans cidps. the enactment and enforcement of supportive legislations, creation of strong governance institutions and enhancement of human and technical capacities in all counties is paramount. policies, legal and institutional measures which have been undertaken to operationalise and implement devolution include preparation of a report on implementation of devolved government; formulation of policy paper on implementation of devolution; enactment of five laws on devolution urban areas and cities act, 201 1; county governments act, 201 2; transition to devolved government act, 201 2; intergovernmental relations act, 201 2 and public finance management act, 201 2; national government coordinating act 201 3; county governments public finance transition act 201 3; and establishment of transition authority and commission on revenue allocation. over the planned period, the government will continue with the implementations of the reforms envisioned under the new laws and it will also provide human and financial resources required to build the institutional framework mandated by the constitution. the transition authority was established to facilitate and coordinate the transition to the devolved system of government. its mandate include analysis and the phased transfer of the functions; coordinate integrated development planning and funding mechanisms; undertake a comprehensive human resource audit and capacity development; conduct civic awareness; conduct an audit of assets and liabilities; and determine resource requirements for each of the functions. some of the key issues and challenges includeconcurrent functions are likely to present conflicts in terms of interpretation of mandates;low levels of awareness of the devolved system of governance in both the public sector and the general public;weak or inadequate financial and performance management systems in counties;inadequate county profiling;inadequate capacity for planning, implementation, monitoring and evaluation both at national and county level;inadequate and delayed release of resources leading to a disproportionate reform pace, inefficiencies and ineffectiveness in service delivery;weak inter and intra agencysectoral collaboration and coordination;weak monitoring and evaluation critical to tracking performance and inform programming;human resource and management at both levels of governments; andcompetition for resources and influence between counties, and counties and national government, leading to high demand for resources; capacity building training and system development in order for devolution to fully become operational a training needs assessment will be undertaken within the first one year of the second mtp to determine the capacity gaps and build capacity of public servants to fully embrace and implement devolution. the training will target staff both at the national and county levels.',\n",
       " 'schools has been restricted largely by high cost of establishing facilities such as science and computer laboratories, lack of access to adequate land, financing and limited incentives for potential entrepreneurs.',\n",
       " '2 a person who commits an offence for which no specific penalty has been provided shall be liable upon conviction to a fine of six thousand shillings or imprisonment for six months or both.',\n",
       " 'any person who contravenes the provisions of these regulations for which no specific penalty is provided commits an offence and is liable to a fine of not less than ten thousand shillings or an imprisonment for a term not exceeding three months.',\n",
       " '6 a person who contravenes subsection 5 commits an offence and is liable, on conviction, to a fine not exceeding one hundred thousand shillings or imprisonment for a period not exceeding six months.',\n",
       " '4 4. a person convicted of an offence under this act for which no other penalty is provided shall be liable to a fine not exceeding five hundred thousand shillings or to imprisonment for a term not exceeding three years, or to both.',\n",
       " '3 any person who contravenes the provisions of section 61 shall be guilty of an offence and is liable on conviction to a fine not exceeding one million or to imprisonment for a term not exceeding three years, or to both such fine and imprisonment.',\n",
       " '4 any person who contravenes the provisions of section 5 9 shall be guilty of an offence and shall be liable upon conviction to a fine not exceeding five million shillings or to imprisonment for a term not exceeding three years, or to both such fine and imprisonment.',\n",
       " 'imprisonment for a term not exceeding three years, or to both such fine and imprisonment.',\n",
       " '6 6. any person who contravenes the provisions of this act in relation to activities in forest areas relating to quarrying or re vegetation commits an offence and shall be liable on conviction to a fine not exceeding one million shillings or to imprisonment for a term not exceeding two years or to both such fine and imprisonment.',\n",
       " '6 7. 1 any person who a commits a breach of, or fails to comply with the provisions of this act;commits a breach of, or fails to comply with any of the terms or conditions of a licence issued to him or her under this act;fails to comply with a lawful requirement or demand made or given by a forest officer;obstructs a person in the execution of his or her+ . powers or duties under this act;makes or is found in possession of charcoal in a national, county or provisional forest; or in community forest, private forest or farmlands without a licence or permit of the owner as the case may be commits an offence and is liable on conviction to a fine not exceeding fifty thousand shillings or to imprisonment for a term not exceeding six months, or to both such fine and imprisonment. 2 any person who wilfully or maliciously sets fire to any public, provisional, community or private forest commits an offence and is liable on conviction to a fine not exceeding one hundred thousand shillings or to imprisonment for a term not less than one year, or to both such fine and imprisonment.',\n",
       " '3 any person who operates a sawmill in a manner contrary to that prescribed in rules made under this act commits an offence and is liable on conviction to a fine not exceeding one million shillings or to imprisonment for a lepta nil exceeding three years, or to both such fine and imprisonment.',\n",
       " 'term not exceeding three months, or to both such fine and imprisonment.',\n",
       " '7 4. section 14 0 of the principal act is amended by deleting the words not more than five hundred thousand shillings, or to imprisonment for a term of not more than twenty four months, or to both such fine and imprisonment and substituting therefor the words of not less than one year but not more than four years or to a fine of not less than two million shillings but not more than four million shillings, or to both such fine and imprisonment.',\n",
       " '7 5. section 14 2 of the principal act is amended by deleting the words not more than five hundred thousand shillings and substituting therefor the words not less than two million shillings but not more than than five million shillings.',\n",
       " '7 6. section 14 3 of the principal act is amended a in the marginal note, by inserting the words orders of the tribunal immediately after the word orders;by renumbering section 14 3 as section 14 3 1;by inserting a new paragraph immediately after paragraphas followsfails, neglects or refuses to comply with any order made by the tribunal,;by deleting the words not more than twelve months, or to a fine of not more than five hundred thousand shillings, or both and substituting therefor the words of not less than one year and not more than four years or to a fine of not less than two million shillings and not more than four million shillings or to both such fine and imprisonment.; amendment of section 13 9 of no.',\n",
       " 'b by deleting the words more than eighteen months, or to a fine of not more than three hundred and fifty thousand shillings and substituting therefor the words of not less than one year but not more than four years, or to a fine of not less than two million shillings but not more than four million shijlings, or to both such fine and imprisonment.',\n",
       " 'financing bank regarding advancing of loans, including the provision of mortgage of property, and recovery thereof shall apply in relation to the amount of cost to be recovered from each owner of land, as they apply in relation to advancing of loans and recovery thereof, including interest, as if such owner was a borrower of such bank. the transfer of the rights and liabilities and payments made in accordance therewith shall discharge the owner of land his liability to make payment to the state government under this act, but to the extent only of his liability accepted by the concerned financing bank. ',\n",
       " 'inadequate budgetary allocation. insufficient budgetary allocation to the agricultural sector is a key constraint. in 200 3 under the maputo declaration, african heads of state committed to allocate 1 0 per cent of their annual budgets to the agricultural sector. kenya has not yet achieved this target; by 200 8, the sector was receiving 4.5 per cent of the budget. this insufficient allocation has reduced human resources and service delivery by government institutions. reduced effectiveness of extension services. the effectiveness of extension services declined over the last two decades due to use of inappropriate methods and a sharp reduction in operational budgets and human resources in the sector ministries. in particular, livestock extension in asals has been underfinanced. while much has been achieved in the last 5 years, inadequate financial and human resources continue to constrain the sector.',\n",
       " 'most climate friendly technologies have so far been developed and used in developed countries, from where they are expected to transfer to developing countries through well known channels including trade, foreign direct investment fdic and cross border technology licensing. in order to attract these technologies, the government needs to tackle barriers that have and continue to hinder fdic in the country. these include insufficient human capabilities, high transaction costs, trade and policy barriers as well as institutional limitations such as weak intellectual property protection laws and enforcement.',\n",
       " 'it appears that a consensus is emerging on several elements of a future deal on a technology framework. notably, parties to the  seem likely to agree on the establishment of a technology body in the future climate change agreement, although the structure, mandate, name and funding of the proposed mechanism remain unclear. the creation of a technology body has been supported in particular by developing countries, specifically the g7 7 and china group, which proposed the establishment of a technology mechanism, comprising an executive body and a multilateral climate technology fund mctf, both subsidiary to the cop.',\n",
       " 'in general, the three funds lcdf, scoff and af are not adequate to fund the massive adaptation needs of developing countries, many of which are already being ravaged by climate change. at present, the funds mainly constitute pledges by donor countries and agencies. as history shows pledges do not always lead to actual delivery and implementation of the funds. again, even with the pledges included, the funds still fall short of the us$ 10 0 billion per annum which developed countries have pledged to mobilise under the copenhagen accord to help address climate change needs of developing countries by 202 0. in any case, even this proposed figure is considered by many as a gross underestimate because it is based on a scenario where the global temperature increase would be limited to 2c, whilst some climate models show that current emissions pathway leads us to a much warmer world 3c and upward and consequently higher costs.',\n",
       " 'some of the challenges faced includehigh expectations of citizens on public service delivery;inadequacy of some specialized skills and incentives necessary for implementation of vision 203 0 projects.inadequate linkage between, budgeting, planning and results.inadequate budgetary support for public sector reformsweak monitoring and evaluation of public sector reforms the proposed programmes and projects will have the potential for the creation of a public service that upholds integrity, innovation, creativity, diversity and inclusiveness for efficient service delivery.',\n",
       " 'the government has been implementing four flagship projects during the first mtp namely establishment of special economic zones, creation of producer business groups, creation of wholesale hubs and tier 1 retail markets. these projects have however achieved little progress in their implementation because of inadequate budgetary allocations, the challenge of acquiring appropriate land and absence of enabling legislative framework..',\n",
       " 'budget allocation inadequate budgetary allocation of development funds has hampered the implementation of the various programmes and projects.',\n",
       " \"most of the bop companies in kenya face various challenges that impede their growth and development. this include inability of small firms to enjoy economies of scale; lack of comprehensive policy; regulatory and incentive framework to attract investors; small talent pool; lack of marketing; rigid labour laws for export services; lack of a formalized one stop shop to facilitate the ease of doing business; competition from other countries offering competitive prices due to their comparative advantage occasioned by availability of cheap broadband infrastructure; and lack of knowledge development procedure in various bop companies workforce and other amenities. the government's goal over the plan period is to transform kenya into the opposites hub for east africa region and beyond, building on the progress achieved to connect every kenyan to the new infrastructure and harness ict for efficient and effective government, e commerce, economic growth and job creation for the youth.\",\n",
       " 'schools has been restricted largely by high cost of establishing facilities such as science and computer laboratories, lack of access to adequate land, financing and limited incentives for potential entrepreneurs.',\n",
       " ' realign mining policies to regional and international protocols  develop standard mining agreements  establish a transparent framework for managing mineral rights  review mining royalties  promote mineral research and development  improve coordination among stakeholders  conduct sensitisation campaigns academic institutions increasing exploration and mining of mineral resources  conduct geological, geochemical and geophysical mapping  intensify drilling and sample analysis for mineral identification  procure modern equipment  produce and disseminate mineral resources and occurrence map  create an integrated data management systems improving transparency in the management of the sector through  annual auditing and dissemination of the audit report  encourage transparency in rights allocation  enhance accountability and transparency office of the audit general enforcing legislation on sustainable use and management of  promote awareness and encourage community participation in sustainable use and management of mineral resources  develop guidelines on the management of mineral resources  imposing fines on the mismanagement of the mineral resources  encourage environmentally sustainable mining practices  train the as enterprises on sustainable use and management of mineral resources  conduct field inspections on compliance improved investments in tourism infrastructure ensuring participation of local investors in the tourism industry.  promoting pops in the tourism investment. ',\n",
       " 'the formulation of the mgds ii assumed that resources for its implementation would come from national budget as well as the development partners and other players such as private sector organizations. a year inside the strategy implementation, several development partners pulled out support from the national budget due to misuse of public financial resources. this affected the implementation of some of the activities that were planned over the years. ',\n",
       " 'and unsustainable. this has made services insufficiently and poorly delivered to the malawis economic development has also slowed down due to poor environment for doing business. the 201 7 doing business report of the world, ranked malawi at 13 3 out of 19 0 countries, a slight improvement from the rank of 14 1 in 201 6. in this report countries are assessed based on several factors that affect business decisions. these include starting a business; access to electricity; registering property; getting credit; protecting investors; paying taxes; trading across borders; and enforcing contracts and resolving insolvency. malawi has not been ranked favorably in many of these indicators and there are still gaps that the underdeveloped financial sector has made investment in real sectors a challenge. in terms of financial sector soundness, malawi is doing well having suffered only one bank failure over the past two decades. however, when it comes to supporting investment, the financial sector has been fragile as all the financial institutions created to support local investment have folded up after short operational periods due to a multiplicity of other challenges. on the contrary, banking is very profitable not from developmental lending operations, but from investing in government securities. ',\n",
       " 'it has been suggested for a number of years that greater involvement of the private sector might improve this situation, and the treasury has asked for ownership and management options for these state owned plantations to be developed. yet there is inadequate capability within the department of forestry to develop sound concession agreements, monitor their performance and enforce penalties in case of breach of contract.',\n",
       " 'donors are being squeezed by their governments, which is having knock on effects for malawi. as their budgets shrink they, like the government, are trying to improve their performance. initiatives include increasing their co ordination with other donors, and decentralising finance towards lower levels of government, ngos and cbos.',\n",
       " 'summary district development planning officers ddp1 2 or their representatives from 171 3 out of 2 8 districts answered a brief questionnaire on community level financing for restoration. the results showed that communities can save and borrow, but that especially borrowing options are limited, and mostly come from village savings and loans associations vsla1 4. while these are critical financial institutions at community, the loan sizes are typically small. wage labour or piecework, commonly known as gangway in malawi, along with natural resources exploitation predominantly unsustainable charcoal making and fishing are key ways to access cash for emergencies. community savings groups e.g. vsla, borrowing from relatives and friends as well as money lenders are also used. in terms of access to financial services, solidarity groups e.g. vsla, traditional rotating savings groups e.g. chilean or chiperegani, and money lenders are the commonest financial institutions at the community level and there is no access to formal banks and very little to cooperatives. gangway is a particularly important source of cash at the village level, a fact backed up by other studies whiteside, 200 0.',\n",
       " 'this is also an important metric because malawian households may not have the financial capital to make the necessary investments out of their own pockets and more importantly, they may also be unable to borrow the money because they lack access to credit markets manson 201 0. as of 201 0, less than 1 5 percent of all households in malawi had some interaction with the credit market and only 1.2 percent of households successfully obtained an agricultural loan. additionally, gender information from malawi shows that female headed households face more constraints to accessing credit than male headed households. large financial gaps will suggest that additional sources of funding will need to be secured and distributed to smallholders as part of a larger scaling up effort.',\n",
       " 'the results from the cab suggest agricultural technology based restoration activities produce more private benefits than public benefits and could be paid for with grassroots investments made directly by smallholders and also with funds distributed through private financing businesses like microfinance institutions and key findings economics and financial analysis malawi has committed to restore 4.5 million hectares of degraded land by 203 0 and a financial analysis was conducted to estimate how much funding is needed to achieve this goal. based on estimated costs and benefits of selected restoration interventions, achieving malawis commitment will require approximately 27 9 billion mwk or approximately 6 2,00 0 mwk per hectare, as shown in table 1. both public and private funds are necessary to overcome the financial gap between current levels of investment and what is needed to reach the 4.5millionhectare target. ',\n",
       " 'this is also an important metric because malawian households may not have the financial capital to make the necessary investments out of their own pockets and more importantly, they may also be unable to borrow the money because they lack access to credit markets manson 201 0. as of 201 0, less than 1 5 percent of all households in malawi had some interaction with the credit market and only 1.2 percent of households successfully obtained an agricultural loan. additionally, gender information from malawi shows that female headed households face more constraints to accessing credit than male headed households. large financial gaps will suggest that additional sources of funding will need to be secured and distributed to smallholders as part of a larger scaling up effort.',\n",
       " 'community institutions for finance a brief survey with dd annex 1 1 showed that there are institutions through which communities can save and borrow, but that especially borrowing options are limited, and mostly come from village savings and loans associations vsla5. in the absence of accessible borrowing mechanisms wage labour or piecework, commonly known as gangway in malawi, along with natural resources exploitation predominantly unsustainable charcoal making and fishing are key ways to access cash for emergencies. in terms of access to financial services, solidarity groups e.g. vsla, traditional rotating savings groups e.g. chilean or chiperegani, and money lenders are the commonest financial institutions at the community level and there is no access to formal banks and very little to cooperatives. gangway is a particularly important source of cash at the village level, a fact backed up by other studies whiteside, 200 0. there is generally an absence of financial institutions that directly support restoration at the village and district level. ',\n",
       " 'up front financial costs are also greater for restoration interventions as compared to current land uses and this poses a problem for poor households who may not have the financial resources to make investments in restoration activities. according to the malawi integrated household survey of 201 0, less than 1 5 percent of all households in malawi had some interaction with the credit market and only 1.2 percent of households successfully obtained a loan manson 201 1. in addition, according to the his 3, women often lack access to credit from banks and microfinance institutions because of collateral and security guarantees ministry of gender, children, disability and social welfare 201 46. this suggests that households must either pay for the additional financial costs of adopting restoration activities from their own savings or additional sources of funding will have to be secured and distributed to smallholders across the country in the form of farm credit. ',\n",
       " 'currently, climate policy instruments are limited as they operate within the context of general environmental management frameworks. hence, they are limited in scope reducing their effectiveness in addressing the full range of challenges posed by climate change. further, they provide inadequate incentives and enforcement tools for mitigation action. both the initial and second national communications to the  and the napa developed by malawi outline strategies that can contribute to ghg mitigation while addressing other critical development objectives. these plans can serve as a basis for defining and recognizing nationally appropriate actions in a new climate policy. however, government faces national and local challenges in meeting international commitments, while ensuring that climate action remains compatible with its development agenda. thus, we have witnessed a slow implementation process of the napa. given the multi agent and collective action nature of the climate problem, government will need to set incentives for local governments, households, communities and particularly the private sector, through pricing, taxation, regulation, and long term planning. ',\n",
       " '3.2.5.1 strategic challenge the financial sector is currently under developed. the number of financial institutions and their instruments are limited. access to credit and financial services is also very limited. ']"
      ]
     },
     "execution_count": 5,
     "metadata": {},
     "output_type": "execute_result"
    }
   ],
   "source": [
    "[x for x in df['sentences'][df['class'] == 2]]"
   ]
  },
  {
   "cell_type": "markdown",
   "metadata": {},
   "source": [
    "## Creating labeling functions"
   ]
  },
  {
   "cell_type": "code",
   "execution_count": 11,
   "metadata": {},
   "outputs": [],
   "source": [
    "ABSTAIN = 0\n",
    "NEUTRAL = 1\n",
    "NEGATIVE = 2\n",
    "POSITIVE = 3\n",
    "\n",
    "from nltk.stem import PorterStemmer\n",
    "ps = PorterStemmer()\n",
    "\n",
    "def words_in_string(word_list, a_string):\n",
    "    return list(set(word_list).intersection(a_string))\n",
    "\n",
    "def split_and_search(string, l1 = ['finance', 'money'], l2 = ['provide', 'improve']):\n",
    "    string = string.split(' ')\n",
    "    string = [ps.stem(x) for x in string]\n",
    "    \n",
    "    l1 = [ps.stem(x) for x in l1]\n",
    "    l2 = [ps.stem(x) for x in l2]\n",
    "    \n",
    "    list1 = words_in_string(l1, string)\n",
    "    list2 = words_in_string(l2, string)\n",
    "    \n",
    "    loc1 = [i for i,val in enumerate(string) if val in list1]\n",
    "    loc2 = [i for i,val in enumerate(string) if val in list2]\n",
    "    if loc1 and loc2:\n",
    "        min_diff = min([abs(x - y) for x, y in zip(sorted(loc1), sorted(loc2))])\n",
    "        return min_diff\n",
    "    else:\n",
    "        return 999\n",
    "\n",
    "verbs = ['improve', 'provide', 'establish', 'assist', 'raise', 'facilitate', 'increase',\n",
    "        'mobilize', 'encourage', 'offer']\n",
    "\n",
    "nouns = ['fund', 'investment', 'finance', 'credit', 'budget', 'resource']\n",
    "\n",
    "neg_verbs_adj = ['limit', 'inadequate', 'insufficient', 'mismanage', 'little', 'high', 'lack', 'challenge']\n",
    "\n",
    "neg_nouns = ['progress', 'cost', 'budget', 'credit', 'resource', 'investment', 'fund', 'interest',\n",
    "            'finance', 'challenge', 'loan', 'capital']\n",
    "\n",
    "def less_than_5(text):\n",
    "    diff = split_and_search(text, l1 = verbs, l2 = nouns)\n",
    "    return POSITIVE if diff < 10 else ABSTAIN\n",
    "\n",
    "def negative_proximity(text):\n",
    "    diff = split_and_search(text, l1 = neg_verbs_adj, l2 = neg_nouns)\n",
    "    return NEGATIVE if diff < 5 else ABSTAIN"
   ]
  },
  {
   "cell_type": "code",
   "execution_count": 18,
   "metadata": {},
   "outputs": [],
   "source": [
    "#TODO: Refine and granularize the LFs\n",
    "#TODO: Go through false positives and update original labels --- Some of them are incorrect\n",
    "#TODO: create tokenizing function with keras\n",
    "\n",
    "to_add = ['reduce costs',\n",
    "         'offer affordable','devolution fund', 'financing commitment',\n",
    "          'increase resource allocation', 'will be financed by', 'delivery of financ',\n",
    "         'encourage private investment', 'will be financed', 'delivery of financial']\n",
    "\n",
    "TYPES_OF_FUNDS = r\"\"\"\\b(microfinance|micro finance|grants|bilateral|multilateral|capital|concessional|\n",
    "                            results based|philanthropic|carbon market|institutional finance|\n",
    "                            budget allocation|budgetary allocation|financial assistance|micro financ|\n",
    "                            funding mechanism|tax break|grant fund|youth enterprise fund|devolution fund|\n",
    "                            financing commitment|international finance|green climate fund| sustainable financ|\n",
    "                            development fund|adequate fund|private sector investment|forestry investment|\n",
    "                            tax incentive|access to credit|devolved fund|revolving fund|financial mechanism|\n",
    "                            budget support|taxation incentive|payment for ecosystem)\"\"\"\n",
    "\n",
    "NEUTRAL_FINANCE = r\"\"\"\\b(credit|investment|fund|grants|capital|support)\"\"\"\n",
    "\n",
    "CREATING_FUNDS = r\"\"\"\\b(financial support|funded by|provide funding|mobilize|provide investment|\n",
    "                        offer funds|offer incentive|will be funded|increase investment|funding support|\n",
    "                        budget support|taxation incentives|\n",
    "                        mobilization of financ|encourage investment|facilitate investment|\n",
    "                        improving the lending|raise funds|new investment|green growth|mobilising resources|earmark|\n",
    "                        obtain funds|funds will be provided|additional funds|increase in investment|\n",
    "                        fund established|access funds|access finance|mobilize finance|\n",
    "                        provide finance|establish fund|establishment of an innovation fund|\n",
    "                        offer affordable)\"\"\"\n",
    "\n",
    "REDUCE_WORDS = r'''\\b(reduce cost|lower cost|remove barriers|cost reduction|cost effective)'''\n",
    "\n",
    "            \n",
    "INCENTIVE = r\"\"\"\\b(market connection|low transaction cost|payment system|funded by|provide funding|concessional|\n",
    "                    results based|mobilize|carbon market|\n",
    "                    provide investment opportunities|offer incentives|generated funds|\n",
    "                    qualify for grants|budgetary allocation|credit packages|increase investment|\n",
    "                    carbon credit|transfer pricing|mobilization of financ|encourage investment|\n",
    "                    facilitate investment|access to finance|increased revenue|improving the lending|\n",
    "                    market access|raise funds|access of|cost reduction|new investments|green growth|\n",
    "                    mobilising resources|micro financing|accessing funds|institutional finance|\n",
    "                    obtain funds|funds will be provided|tax free|additional funds|\n",
    "                    financial incentives will)\"\"\"\n",
    "\n",
    "NEG_WORDS = r\"\"\"\\b(barriers|levied|evasion|penalty|excise|seizure|fee|disincentive|\n",
    "                    not enough|fine|hampered|challenges|impede|guilty|\n",
    "                    there is not|failed|there has not been|obstacle|corruption)\"\"\"\n",
    "\n",
    "#neutral_finance\n",
    "#neutral_incentives\n",
    "#neutral_access\n",
    "\n",
    "def neutral_funds(text):\n",
    "    funds = re.search(CREATING_FUNDS, text)\n",
    "    return ABSTAIN if funds else NEUTRAL\n",
    "\n",
    "def neutral(text):\n",
    "    inc = re.search(INCENTIVE, text)\n",
    "    cre = re.search(TYPES_OF_FUNDS, text)\n",
    "    dis = re.search(NEG_WORDS, text)\n",
    "    create = re.search(CREATING_FUNDS, text)\n",
    "    return ABSTAIN if inc or dis or cre or create else NEUTRAL\n",
    "\n",
    "def reduce(text):\n",
    "    return POSITIVE if re.search(REDUCE_WORDS, text) else ABSTAIN\n",
    "\n",
    "def contains_incentive_words(text):\n",
    "    return POSITIVE if re.search(INCENTIVE, text) else ABSTAIN\n",
    "\n",
    "def negative(text):\n",
    "    return NEGATIVE if re.search(NEG_WORDS, text) else ABSTAIN\n",
    "\n",
    "def contains_funding_types(text):\n",
    "    return POSITIVE if re.search(TYPES_OF_FUNDS, text) else ABSTAIN\n",
    "\n",
    "def contains_fund_creation(text):\n",
    "    return POSITIVE if re.search(CREATING_FUNDS, text) else ABSTAIN\n",
    "\n",
    "def neutral_finance(text):\n",
    "    return POSITIVE if re.search(NEUTRAL_FINANCE, text) else ABSTAIN\n",
    "\n",
    "LFs = [\n",
    "    contains_incentive_words,\n",
    "    contains_funding_types,\n",
    "    contains_fund_creation,\n",
    "    negative,\n",
    "    neutral,\n",
    "    reduce,\n",
    "    neutral_funds,\n",
    "    less_than_5,\n",
    "    negative_proximity,\n",
    "]\n",
    "\n",
    "LF_names = [\n",
    "    'incentive',\n",
    "    'types',\n",
    "    'creation',\n",
    "    'negative',\n",
    "    'neutral',\n",
    "    'reduce',\n",
    "    'neutral_funds',\n",
    "    'less_than_5',\n",
    "    'negative_prox'\n",
    "]"
   ]
  },
  {
   "cell_type": "code",
   "execution_count": 19,
   "metadata": {},
   "outputs": [],
   "source": [
    "def make_Ls_matrix(data, LFs):\n",
    "    noisy_labels = np.empty((len(data), len(LFs)))\n",
    "    for i, row in data.iteritems():\n",
    "        for j, lf in enumerate(LFs):\n",
    "            noisy_labels[i][j] = lf(row.lower())\n",
    "    return noisy_labels\n",
    "\n",
    "LF_matrix = make_Ls_matrix(df['sentences'], LFs)\n",
    "gold_standard = np.array(df['class'])\n",
    "gold_standard = [np.int(x) for x in gold_standard]\n",
    "\n",
    "LF_matrix = LF_matrix.astype(int)"
   ]
  },
  {
   "cell_type": "code",
   "execution_count": 20,
   "metadata": {},
   "outputs": [
    {
     "data": {
      "text/html": [
       "<div>\n",
       "<style scoped>\n",
       "    .dataframe tbody tr th:only-of-type {\n",
       "        vertical-align: middle;\n",
       "    }\n",
       "\n",
       "    .dataframe tbody tr th {\n",
       "        vertical-align: top;\n",
       "    }\n",
       "\n",
       "    .dataframe thead th {\n",
       "        text-align: right;\n",
       "    }\n",
       "</style>\n",
       "<table border=\"1\" class=\"dataframe\">\n",
       "  <thead>\n",
       "    <tr style=\"text-align: right;\">\n",
       "      <th></th>\n",
       "      <th>j</th>\n",
       "      <th>Polarity</th>\n",
       "      <th>Coverage</th>\n",
       "      <th>Overlaps</th>\n",
       "      <th>Conflicts</th>\n",
       "      <th>Correct</th>\n",
       "      <th>Incorrect</th>\n",
       "      <th>Emp. Acc.</th>\n",
       "    </tr>\n",
       "  </thead>\n",
       "  <tbody>\n",
       "    <tr>\n",
       "      <th>incentive</th>\n",
       "      <td>0</td>\n",
       "      <td>3</td>\n",
       "      <td>0.085189</td>\n",
       "      <td>0.085189</td>\n",
       "      <td>0.048403</td>\n",
       "      <td>74</td>\n",
       "      <td>14</td>\n",
       "      <td>0.840909</td>\n",
       "    </tr>\n",
       "    <tr>\n",
       "      <th>types</th>\n",
       "      <td>1</td>\n",
       "      <td>3</td>\n",
       "      <td>0.137464</td>\n",
       "      <td>0.137464</td>\n",
       "      <td>0.121007</td>\n",
       "      <td>106</td>\n",
       "      <td>36</td>\n",
       "      <td>0.746479</td>\n",
       "    </tr>\n",
       "    <tr>\n",
       "      <th>creation</th>\n",
       "      <td>2</td>\n",
       "      <td>3</td>\n",
       "      <td>0.060019</td>\n",
       "      <td>0.049371</td>\n",
       "      <td>0.001936</td>\n",
       "      <td>55</td>\n",
       "      <td>7</td>\n",
       "      <td>0.887097</td>\n",
       "    </tr>\n",
       "    <tr>\n",
       "      <th>negative</th>\n",
       "      <td>3</td>\n",
       "      <td>2</td>\n",
       "      <td>0.067764</td>\n",
       "      <td>0.067764</td>\n",
       "      <td>0.067764</td>\n",
       "      <td>26</td>\n",
       "      <td>44</td>\n",
       "      <td>0.371429</td>\n",
       "    </tr>\n",
       "    <tr>\n",
       "      <th>neutral</th>\n",
       "      <td>4</td>\n",
       "      <td>1</td>\n",
       "      <td>0.735721</td>\n",
       "      <td>0.735721</td>\n",
       "      <td>0.057115</td>\n",
       "      <td>588</td>\n",
       "      <td>172</td>\n",
       "      <td>0.773684</td>\n",
       "    </tr>\n",
       "    <tr>\n",
       "      <th>reduce</th>\n",
       "      <td>5</td>\n",
       "      <td>3</td>\n",
       "      <td>0.016457</td>\n",
       "      <td>0.016457</td>\n",
       "      <td>0.014521</td>\n",
       "      <td>11</td>\n",
       "      <td>6</td>\n",
       "      <td>0.647059</td>\n",
       "    </tr>\n",
       "    <tr>\n",
       "      <th>neutral_funds</th>\n",
       "      <td>6</td>\n",
       "      <td>1</td>\n",
       "      <td>0.939981</td>\n",
       "      <td>0.939981</td>\n",
       "      <td>0.261375</td>\n",
       "      <td>639</td>\n",
       "      <td>332</td>\n",
       "      <td>0.658084</td>\n",
       "    </tr>\n",
       "    <tr>\n",
       "      <th>less_than_5</th>\n",
       "      <td>7</td>\n",
       "      <td>3</td>\n",
       "      <td>0.095837</td>\n",
       "      <td>0.095837</td>\n",
       "      <td>0.068732</td>\n",
       "      <td>73</td>\n",
       "      <td>26</td>\n",
       "      <td>0.737374</td>\n",
       "    </tr>\n",
       "    <tr>\n",
       "      <th>negative_prox</th>\n",
       "      <td>8</td>\n",
       "      <td>2</td>\n",
       "      <td>0.021297</td>\n",
       "      <td>0.021297</td>\n",
       "      <td>0.021297</td>\n",
       "      <td>12</td>\n",
       "      <td>10</td>\n",
       "      <td>0.545455</td>\n",
       "    </tr>\n",
       "  </tbody>\n",
       "</table>\n",
       "</div>"
      ],
      "text/plain": [
       "               j  Polarity  Coverage  Overlaps  Conflicts  Correct  Incorrect  \\\n",
       "incentive      0         3  0.085189  0.085189   0.048403       74         14   \n",
       "types          1         3  0.137464  0.137464   0.121007      106         36   \n",
       "creation       2         3  0.060019  0.049371   0.001936       55          7   \n",
       "negative       3         2  0.067764  0.067764   0.067764       26         44   \n",
       "neutral        4         1  0.735721  0.735721   0.057115      588        172   \n",
       "reduce         5         3  0.016457  0.016457   0.014521       11          6   \n",
       "neutral_funds  6         1  0.939981  0.939981   0.261375      639        332   \n",
       "less_than_5    7         3  0.095837  0.095837   0.068732       73         26   \n",
       "negative_prox  8         2  0.021297  0.021297   0.021297       12         10   \n",
       "\n",
       "               Emp. Acc.  \n",
       "incentive       0.840909  \n",
       "types           0.746479  \n",
       "creation        0.887097  \n",
       "negative        0.371429  \n",
       "neutral         0.773684  \n",
       "reduce          0.647059  \n",
       "neutral_funds   0.658084  \n",
       "less_than_5     0.737374  \n",
       "negative_prox   0.545455  "
      ]
     },
     "execution_count": 20,
     "metadata": {},
     "output_type": "execute_result"
    }
   ],
   "source": [
    "lf_summary(sparse.csr_matrix(LF_matrix),\n",
    "           Y=gold_standard,\n",
    "           lf_names=LF_names)"
   ]
  },
  {
   "cell_type": "code",
   "execution_count": 15,
   "metadata": {},
   "outputs": [
    {
     "data": {
      "text/plain": [
       "1.0"
      ]
     },
     "execution_count": 15,
     "metadata": {},
     "output_type": "execute_result"
    }
   ],
   "source": [
    "label_coverage(LF_matrix)"
   ]
  },
  {
   "cell_type": "markdown",
   "metadata": {},
   "source": [
    "## Baseline and label model"
   ]
  },
  {
   "cell_type": "code",
   "execution_count": 21,
   "metadata": {},
   "outputs": [
    {
     "name": "stdout",
     "output_type": "stream",
     "text": [
      "Computing O...\n",
      "Estimating \\mu...\n",
      "[200 epo]: TRAIN:[loss=0.036]\n",
      "[400 epo]: TRAIN:[loss=0.029]\n",
      "[600 epo]: TRAIN:[loss=0.024]\n",
      "[800 epo]: TRAIN:[loss=0.020]\n",
      "[1000 epo]: TRAIN:[loss=0.017]\n",
      "Finished Training\n"
     ]
    }
   ],
   "source": [
    "label_model = LabelModel(k=3, seed=42)\n",
    "label_model.train_model(LF_matrix,\n",
    "                        Y_dev=gold_standard,\n",
    "                        n_epochs=1000,\n",
    "                        lr=0.001,\n",
    "                        log_train_every=200)"
   ]
  },
  {
   "cell_type": "code",
   "execution_count": 22,
   "metadata": {},
   "outputs": [
    {
     "name": "stdout",
     "output_type": "stream",
     "text": [
      "Accuracy: 0.756\n",
      "Precision: 0.748\n",
      "Recall: 0.949\n",
      "F1: 0.837\n",
      "        y=1    y=2    y=3   \n",
      " l=1    613    39     167   \n",
      " l=2     0      0      0    \n",
      " l=3    33     13     168   \n"
     ]
    }
   ],
   "source": [
    "scores = label_model.score((LF_matrix, gold_standard),\n",
    "                           metric=['accuracy','precision', 'recall', 'f1'])"
   ]
  },
  {
   "cell_type": "code",
   "execution_count": 33,
   "metadata": {},
   "outputs": [
    {
     "data": {
      "image/png": "[encoded data removed]",
      "text/plain": [
       "<Figure size 432x288 with 1 Axes>"
      ]
     },
     "metadata": {
      "needs_background": "light"
     },
     "output_type": "display_data"
    }
   ],
   "source": [
    "from metal.contrib.visualization.analysis import (\n",
    "    plot_predictions_histogram, \n",
    "    plot_probabilities_histogram,\n",
    ")\n",
    "\n",
    "Y_train_ps = label_model.predict_proba(LF_matrix)\n",
    "Y_snorkel = label_model.predict(LF_matrix)\n",
    "np.save(\"../data/interim/snorkel_proba\", Y_train_ps)\n",
    "\n",
    "plot_predictions_histogram(gold_standard,\n",
    "                           label_model.predict(LF_matrix),\n",
    "                           title=\"Label Distribution\")"
   ]
  },
  {
   "cell_type": "code",
   "execution_count": 293,
   "metadata": {},
   "outputs": [],
   "source": [
    "false = np.where(Y_snorkel != df['class'])\n",
    "false_negatives = [x for x in false[0] if df['class'][x] == 2]\n",
    "#false_positives = [x for x in false[0] if df['class'][x] == 3] # TRUE: Neutral, PRED: Incentive"
   ]
  },
  {
   "cell_type": "code",
   "execution_count": null,
   "metadata": {},
   "outputs": [],
   "source": [
    "f_to_p = []\n",
    "for x in false_negatives:\n",
    "    print(x, df['sentences'][x], df['class'][x], Y_snorkel[x])"
   ]
  }
 ],
 "metadata": {
  "kernelspec": {
   "display_name": "policy-toolkit",
   "language": "python",
   "name": "policy-toolkit"
  },
  "language_info": {
   "codemirror_mode": {
    "name": "ipython",
    "version": 3
   },
   "file_extension": ".py",
   "mimetype": "text/x-python",
   "name": "python",
   "nbconvert_exporter": "python",
   "pygments_lexer": "ipython3",
   "version": "3.7.3"
  }
 },
 "nbformat": 4,
 "nbformat_minor": 2
}
