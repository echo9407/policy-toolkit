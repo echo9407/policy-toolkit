{
 "cells": [
  {
   "cell_type": "markdown",
   "metadata": {},
   "source": [
    "# Automatic data labeling with snorkel-metal\n",
    "\n",
    "John Brandt\n",
    "\n",
    "\n",
    "Last Updated: July 25, 2019"
   ]
  },
  {
   "cell_type": "markdown",
   "metadata": {},
   "source": [
    "## Loading and preprocessing data"
   ]
  },
  {
   "cell_type": "code",
   "execution_count": 180,
   "metadata": {},
   "outputs": [
    {
     "name": "stdout",
     "output_type": "stream",
     "text": [
      "The autoreload extension is already loaded. To reload it, use:\n",
      "  %reload_ext autoreload\n"
     ]
    }
   ],
   "source": [
    "%load_ext autoreload\n",
    "%autoreload 2\n",
    "%matplotlib inline\n",
    "import os\n",
    "\n",
    "import re\n",
    "import pickle\n",
    "import numpy as np\n",
    "import pandas as pd\n",
    "from scipy import sparse\n",
    "from sklearn.metrics import confusion_matrix, f1_score\n",
    "\n",
    "from metal.label_model import LabelModel\n",
    "from metal.analysis import lf_summary, label_coverage\n",
    "from metal.label_model.baselines import MajorityLabelVoter"
   ]
  },
  {
   "cell_type": "code",
   "execution_count": 181,
   "metadata": {},
   "outputs": [],
   "source": [
    "import pandas as pd\n",
    "df = pd.read_csv(\"../data/interim/kenya-positive.csv\")\n",
    "df_negative = pd.read_csv(\"../data/interim/kenya-neutral.csv\")\n",
    "df_neutral = pd.read_csv(\"../data/interim/kenya-positive2.csv\")\n",
    "df_india_positive = pd.read_csv(\"../data/interim/india-positive.csv\")\n",
    "df_india_negative = pd.read_csv(\"../data/interim/india-negative.csv\")\n",
    "df_malawi_positive = pd.read_csv(\"../data/interim/malawi-positive.csv\")\n",
    "\n",
    "df = df.append(df_negative, ignore_index = True)\n",
    "df = df.append(df_india_positive, ignore_index = True)\n",
    "df = df.append(df_india_negative, ignore_index = True)\n",
    "df = df.append(df_neutral, ignore_index = True)\n",
    "df = df.append(df_malawi_positive, ignore_index = True)\n",
    "\n",
    "\n",
    "df['label'] = range(0, len(df))\n",
    "df = df[['label', 'sentences', 'class']]\n",
    "df.reset_index()\n",
    "df.to_csv('../data/interim/all.tsv', sep = '\\t', index = False)"
   ]
  },
  {
   "cell_type": "code",
   "execution_count": 182,
   "metadata": {},
   "outputs": [
    {
     "name": "stderr",
     "output_type": "stream",
     "text": [
      "/Library/Frameworks/Python.framework/Versions/3.6/lib/python3.6/site-packages/ipykernel_launcher.py:2: SettingWithCopyWarning: \n",
      "A value is trying to be set on a copy of a slice from a DataFrame\n",
      "\n",
      "See the caveats in the documentation: http://pandas.pydata.org/pandas-docs/stable/indexing.html#indexing-view-versus-copy\n",
      "  \n",
      "/Library/Frameworks/Python.framework/Versions/3.6/lib/python3.6/site-packages/pandas/core/indexing.py:190: SettingWithCopyWarning: \n",
      "A value is trying to be set on a copy of a slice from a DataFrame\n",
      "\n",
      "See the caveats in the documentation: http://pandas.pydata.org/pandas-docs/stable/indexing.html#indexing-view-versus-copy\n",
      "  self._setitem_with_indexer(indexer, value)\n"
     ]
    }
   ],
   "source": [
    "df['class'] = df['class'].map({'n' : 1, 'i' : 3, 'd' : 2})\n",
    "df['class'][df['class'].isna()] = 1\n",
    "to_positive = [28,  46, 48, 49, 82, 121]\n",
    "df['class'].iloc[to_positive] = [3]*len(to_positive)"
   ]
  },
  {
   "cell_type": "code",
   "execution_count": 183,
   "metadata": {},
   "outputs": [],
   "source": [
    "df.to_csv(\"../data/processed/gold_standard.csv\", index = False)"
   ]
  },
  {
   "cell_type": "code",
   "execution_count": 184,
   "metadata": {},
   "outputs": [],
   "source": [
    "# [x for x in df['sentences'][df['class'] == 3]]"
   ]
  },
  {
   "cell_type": "markdown",
   "metadata": {},
   "source": [
    "## Creating labeling functions"
   ]
  },
  {
   "cell_type": "code",
   "execution_count": 310,
   "metadata": {},
   "outputs": [],
   "source": [
    "ABSTAIN = 0\n",
    "NEUTRAL = 1\n",
    "NEGATIVE = 2\n",
    "POSITIVE = 3\n",
    "\n",
    "from nltk.stem import PorterStemmer\n",
    "ps = PorterStemmer()\n",
    "\n",
    "def words_in_string(word_list, a_string):\n",
    "    return list(set(word_list).intersection(a_string))\n",
    "\n",
    "def split_and_search(string, l1 = ['finance', 'money'], l2 = ['provide', 'improve']):\n",
    "    string = string.split(' ')\n",
    "    string = [ps.stem(x) for x in string]\n",
    "    \n",
    "    l1 = [ps.stem(x) for x in l1]\n",
    "    l2 = [ps.stem(x) for x in l2]\n",
    "    \n",
    "    list1 = words_in_string(l1, string)\n",
    "    list2 = words_in_string(l2, string)\n",
    "    \n",
    "    loc1 = [i for i,val in enumerate(string) if val in list1]\n",
    "    loc2 = [i for i,val in enumerate(string) if val in list2]\n",
    "    if loc1 and loc2:\n",
    "        min_diff = min([abs(x - y) for x, y in zip(sorted(loc1), sorted(loc2))])\n",
    "        return min_diff\n",
    "    else:\n",
    "        return 999\n",
    "\n",
    "split_and_search(\"We will improve the delivery of financing mechanisms provide money\")\n",
    "\n",
    "verbs = ['improve', 'provide', 'establish', 'assist', 'raise', 'facilitate', 'increase',\n",
    "        'mobilize', 'encourage', 'offer']\n",
    "\n",
    "nouns = ['fund', 'investment', 'finance', 'credit', 'budget', 'resource']\n",
    "\n",
    "neg_verbs_adj = ['limit', 'inadequate', 'insufficient', 'mismanage', 'little', 'high', 'lack']\n",
    "neg_nouns = ['progress', 'cost', 'budget', 'credit', 'resource', 'investment', 'fund', 'interest',\n",
    "            'finance']\n",
    "\n",
    "def less_than_5(text):\n",
    "    diff = split_and_search(text, l1 = verbs, l2 = nouns)\n",
    "    return POSITIVE if diff < 10 else ABSTAIN\n",
    "\n",
    "def negative_proximity(text):\n",
    "    diff = split_and_search(text, l1 = neg_verbs_adj, l2 = neg_nouns)\n",
    "    return NEGATIVE if diff < 10 else ABSTAIN"
   ]
  },
  {
   "cell_type": "code",
   "execution_count": 311,
   "metadata": {},
   "outputs": [],
   "source": [
    "#TODO: Refine and granularize the LFs\n",
    "#TODO: Go through false positives and update original labels --- Some of them are incorrect\n",
    "#TODO: create tokenizing function with keras\n",
    "\n",
    "to_add = ['reduce costs',\n",
    "         'offer affordable','devolution fund', 'financing commitment',\n",
    "          'increase resource allocation', 'will be financed by', 'delivery of financ',\n",
    "         'encourage private investment', 'will be financed', 'delivery of financial']\n",
    "\n",
    "TYPES_OF_FUNDS = r\"\"\"\\b(microfinance|micro finance|grants|bilateral|multilateral|capital|concessional|\n",
    "                            results based|philanthropic|carbon market|institutional finance|\n",
    "                            budget allocation|budgetary allocation|financial assistance|micro financ|\n",
    "                            funding mechanism|tax break|grant fund|youth enterprise fund|devolution fund|\n",
    "                            financing commitment|international finance|green climate fund| sustainable financ|\n",
    "                            development fund|adequate fund|private sector investment|forestry investment|\n",
    "                            tax incentive|access to credit|devolved fund|revolving fund|financial mechanism|\n",
    "                            budget support|taxation incentive|payment for ecosystem)\"\"\"\n",
    "\n",
    "NEUTRAL_FINANCE = r\"\"\"\\b(credit|investment|fund|grants|capital|support)\"\"\"\n",
    "\n",
    "CREATING_FUNDS = r\"\"\"\\b(financial support|funded by|provide funding|mobilize|provide investment|\n",
    "                        offer funds|offer incentive|will be funded|increase investment|funding support|\n",
    "                        budget support|taxation incentives|\n",
    "                        mobilization of financ|encourage investment|facilitate investment|\n",
    "                        improving the lending|raise funds|new investment|green growth|mobilising resources|earmark|\n",
    "                        obtain funds|funds will be provided|additional funds|increase in investment|\n",
    "                        fund established|access funds|access finance|mobilize finance|\n",
    "                        provide finance|establish fund|establishment of an innovation fund|\n",
    "                        offer affordable)\"\"\"\n",
    "\n",
    "REDUCE_WORDS = r'''\\b(reduce cost|lower cost|remove barriers|cost reduction|cost effective)'''\n",
    "\n",
    "            \n",
    "INCENTIVE = r\"\"\"\\b(market connection|low transaction cost|payment system|funded by|provide funding|concessional|\n",
    "                    results based|mobilize|carbon market|\n",
    "                    provide investment opportunities|offer incentives|generated funds|\n",
    "                    qualify for grants|budgetary allocation|credit packages|increase investment|\n",
    "                    carbon credit|transfer pricing|mobilization of financ|encourage investment|\n",
    "                    facilitate investment|access to finance|increased revenue|improving the lending|\n",
    "                    market access|raise funds|access of|cost reduction|new investments|green growth|\n",
    "                    mobilising resources|micro financing|accessing funds|institutional finance|\n",
    "                    obtain funds|funds will be provided|tax free|additional funds|\n",
    "                    financial incentives will)\"\"\"\n",
    "\n",
    "NEG_WORDS = r\"\"\"\\b(barriers|levied|evasion|penalty|excise|seizure|fee|disincentive|\n",
    "                    not enough|fine|hampered|challenges|impede|guilty|\n",
    "                    there is not|failed|there has not been|obstacle|corruption)\"\"\"\n",
    "\n",
    "#neutral_finance\n",
    "#neutral_incentives\n",
    "#neutral_access\n",
    "\n",
    "def neutral_funds(text):\n",
    "    funds = re.search(CREATING_FUNDS, text)\n",
    "    return ABSTAIN if funds else NEUTRAL\n",
    "\n",
    "def neutral(text):\n",
    "    inc = re.search(INCENTIVE, text)\n",
    "    cre = re.search(TYPES_OF_FUNDS, text)\n",
    "    dis = re.search(NEG_WORDS, text)\n",
    "    return ABSTAIN if inc or dis or cre else NEUTRAL\n",
    "\n",
    "def reduce(text):\n",
    "    return POSITIVE if re.search(REDUCE_WORDS, text) else ABSTAIN\n",
    "\n",
    "def contains_incentive_words(text):\n",
    "    return POSITIVE if re.search(INCENTIVE, text) else ABSTAIN\n",
    "\n",
    "def negative(text):\n",
    "    return NEGATIVE if re.search(NEG_WORDS, text) else ABSTAIN\n",
    "\n",
    "def contains_funding_types(text):\n",
    "    return POSITIVE if re.search(TYPES_OF_FUNDS, text) else ABSTAIN\n",
    "\n",
    "def contains_fund_creation(text):\n",
    "    return POSITIVE if re.search(CREATING_FUNDS, text) else ABSTAIN\n",
    "\n",
    "def neutral_finance(text):\n",
    "    return POSITIVE if re.search(NEUTRAL_FINANCE, text) else ABSTAIN\n",
    "\n",
    "LFs = [\n",
    "    contains_incentive_words,\n",
    "    contains_funding_types,\n",
    "    contains_fund_creation,\n",
    "    negative,\n",
    "    neutral,\n",
    "    reduce,\n",
    "    neutral_funds,\n",
    "    less_than_5,\n",
    "    negative_proximity,\n",
    "]\n",
    "\n",
    "LF_names = [\n",
    "    'incentive',\n",
    "    'types',\n",
    "    'creation',\n",
    "    'negative',\n",
    "    'neutral',\n",
    "    'reduce',\n",
    "    'neutral_funds',\n",
    "    'less_than_5',\n",
    "    'negative_prox'\n",
    "]"
   ]
  },
  {
   "cell_type": "code",
   "execution_count": 312,
   "metadata": {},
   "outputs": [],
   "source": [
    "def make_Ls_matrix(data, LFs):\n",
    "    noisy_labels = np.empty((len(data), len(LFs)))\n",
    "    for i, row in data.iteritems():\n",
    "        for j, lf in enumerate(LFs):\n",
    "            noisy_labels[i][j] = lf(row.lower())\n",
    "    return noisy_labels\n",
    "\n",
    "LF_matrix = make_Ls_matrix(df['sentences'], LFs)\n",
    "gold_standard = np.array(df['class'])\n",
    "gold_standard = [np.int(x) for x in gold_standard]\n",
    "\n",
    "LF_matrix = LF_matrix.astype(int)"
   ]
  },
  {
   "cell_type": "code",
   "execution_count": 313,
   "metadata": {},
   "outputs": [
    {
     "data": {
      "text/html": [
       "<div>\n",
       "<style scoped>\n",
       "    .dataframe tbody tr th:only-of-type {\n",
       "        vertical-align: middle;\n",
       "    }\n",
       "\n",
       "    .dataframe tbody tr th {\n",
       "        vertical-align: top;\n",
       "    }\n",
       "\n",
       "    .dataframe thead th {\n",
       "        text-align: right;\n",
       "    }\n",
       "</style>\n",
       "<table border=\"1\" class=\"dataframe\">\n",
       "  <thead>\n",
       "    <tr style=\"text-align: right;\">\n",
       "      <th></th>\n",
       "      <th>j</th>\n",
       "      <th>Polarity</th>\n",
       "      <th>Coverage</th>\n",
       "      <th>Overlaps</th>\n",
       "      <th>Conflicts</th>\n",
       "      <th>Correct</th>\n",
       "      <th>Incorrect</th>\n",
       "      <th>Emp. Acc.</th>\n",
       "    </tr>\n",
       "  </thead>\n",
       "  <tbody>\n",
       "    <tr>\n",
       "      <th>incentive</th>\n",
       "      <td>0</td>\n",
       "      <td>3</td>\n",
       "      <td>0.085189</td>\n",
       "      <td>0.085189</td>\n",
       "      <td>0.048403</td>\n",
       "      <td>74</td>\n",
       "      <td>14</td>\n",
       "      <td>0.840909</td>\n",
       "    </tr>\n",
       "    <tr>\n",
       "      <th>types</th>\n",
       "      <td>1</td>\n",
       "      <td>3</td>\n",
       "      <td>0.137464</td>\n",
       "      <td>0.137464</td>\n",
       "      <td>0.121007</td>\n",
       "      <td>106</td>\n",
       "      <td>36</td>\n",
       "      <td>0.746479</td>\n",
       "    </tr>\n",
       "    <tr>\n",
       "      <th>creation</th>\n",
       "      <td>2</td>\n",
       "      <td>3</td>\n",
       "      <td>0.060019</td>\n",
       "      <td>0.060019</td>\n",
       "      <td>0.017425</td>\n",
       "      <td>55</td>\n",
       "      <td>7</td>\n",
       "      <td>0.887097</td>\n",
       "    </tr>\n",
       "    <tr>\n",
       "      <th>negative</th>\n",
       "      <td>3</td>\n",
       "      <td>2</td>\n",
       "      <td>0.067764</td>\n",
       "      <td>0.067764</td>\n",
       "      <td>0.067764</td>\n",
       "      <td>26</td>\n",
       "      <td>44</td>\n",
       "      <td>0.371429</td>\n",
       "    </tr>\n",
       "    <tr>\n",
       "      <th>neutral</th>\n",
       "      <td>4</td>\n",
       "      <td>1</td>\n",
       "      <td>0.751210</td>\n",
       "      <td>0.751210</td>\n",
       "      <td>0.070668</td>\n",
       "      <td>591</td>\n",
       "      <td>185</td>\n",
       "      <td>0.761598</td>\n",
       "    </tr>\n",
       "    <tr>\n",
       "      <th>reduce</th>\n",
       "      <td>5</td>\n",
       "      <td>3</td>\n",
       "      <td>0.016457</td>\n",
       "      <td>0.016457</td>\n",
       "      <td>0.014521</td>\n",
       "      <td>11</td>\n",
       "      <td>6</td>\n",
       "      <td>0.647059</td>\n",
       "    </tr>\n",
       "    <tr>\n",
       "      <th>neutral_funds</th>\n",
       "      <td>6</td>\n",
       "      <td>1</td>\n",
       "      <td>0.939981</td>\n",
       "      <td>0.939981</td>\n",
       "      <td>0.259439</td>\n",
       "      <td>639</td>\n",
       "      <td>332</td>\n",
       "      <td>0.658084</td>\n",
       "    </tr>\n",
       "    <tr>\n",
       "      <th>less_than_5</th>\n",
       "      <td>7</td>\n",
       "      <td>3</td>\n",
       "      <td>0.095837</td>\n",
       "      <td>0.095837</td>\n",
       "      <td>0.073572</td>\n",
       "      <td>73</td>\n",
       "      <td>26</td>\n",
       "      <td>0.737374</td>\n",
       "    </tr>\n",
       "    <tr>\n",
       "      <th>negative_prox</th>\n",
       "      <td>8</td>\n",
       "      <td>2</td>\n",
       "      <td>0.012585</td>\n",
       "      <td>0.012585</td>\n",
       "      <td>0.012585</td>\n",
       "      <td>8</td>\n",
       "      <td>5</td>\n",
       "      <td>0.615385</td>\n",
       "    </tr>\n",
       "  </tbody>\n",
       "</table>\n",
       "</div>"
      ],
      "text/plain": [
       "               j  Polarity  Coverage  Overlaps  Conflicts  Correct  Incorrect  \\\n",
       "incentive      0         3  0.085189  0.085189   0.048403       74         14   \n",
       "types          1         3  0.137464  0.137464   0.121007      106         36   \n",
       "creation       2         3  0.060019  0.060019   0.017425       55          7   \n",
       "negative       3         2  0.067764  0.067764   0.067764       26         44   \n",
       "neutral        4         1  0.751210  0.751210   0.070668      591        185   \n",
       "reduce         5         3  0.016457  0.016457   0.014521       11          6   \n",
       "neutral_funds  6         1  0.939981  0.939981   0.259439      639        332   \n",
       "less_than_5    7         3  0.095837  0.095837   0.073572       73         26   \n",
       "negative_prox  8         2  0.012585  0.012585   0.012585        8          5   \n",
       "\n",
       "               Emp. Acc.  \n",
       "incentive       0.840909  \n",
       "types           0.746479  \n",
       "creation        0.887097  \n",
       "negative        0.371429  \n",
       "neutral         0.761598  \n",
       "reduce          0.647059  \n",
       "neutral_funds   0.658084  \n",
       "less_than_5     0.737374  \n",
       "negative_prox   0.615385  "
      ]
     },
     "execution_count": 313,
     "metadata": {},
     "output_type": "execute_result"
    }
   ],
   "source": [
    "lf_summary(sparse.csr_matrix(LF_matrix),\n",
    "           Y=gold_standard,\n",
    "           lf_names=LF_names)"
   ]
  },
  {
   "cell_type": "code",
   "execution_count": 314,
   "metadata": {},
   "outputs": [
    {
     "data": {
      "text/plain": [
       "1.0"
      ]
     },
     "execution_count": 314,
     "metadata": {},
     "output_type": "execute_result"
    }
   ],
   "source": [
    "label_coverage(LF_matrix)"
   ]
  },
  {
   "cell_type": "markdown",
   "metadata": {},
   "source": [
    "## Baseline and label model"
   ]
  },
  {
   "cell_type": "code",
   "execution_count": 300,
   "metadata": {},
   "outputs": [
    {
     "name": "stdout",
     "output_type": "stream",
     "text": [
      "Computing O...\n",
      "Estimating \\mu...\n",
      "[200 epo]: TRAIN:[loss=0.040]\n",
      "[400 epo]: TRAIN:[loss=0.033]\n",
      "[600 epo]: TRAIN:[loss=0.028]\n",
      "[800 epo]: TRAIN:[loss=0.024]\n",
      "[1000 epo]: TRAIN:[loss=0.020]\n",
      "Finished Training\n"
     ]
    }
   ],
   "source": [
    "label_model = LabelModel(k=3, seed=42)\n",
    "label_model.train_model(LF_matrix,\n",
    "                        Y_dev=gold_standard,\n",
    "                        n_epochs=1000,\n",
    "                        lr=0.001,\n",
    "                        log_train_every=200)"
   ]
  },
  {
   "cell_type": "code",
   "execution_count": 301,
   "metadata": {},
   "outputs": [
    {
     "name": "stdout",
     "output_type": "stream",
     "text": [
      "Accuracy: 0.754\n",
      "Precision: 0.751\n",
      "Recall: 0.946\n",
      "F1: 0.837\n",
      "        y=1    y=2    y=3   \n",
      " l=1    611    36     167   \n",
      " l=2     0      0      0    \n",
      " l=3    35     16     168   \n"
     ]
    }
   ],
   "source": [
    "scores = label_model.score((LF_matrix, gold_standard),\n",
    "                           metric=['accuracy','precision', 'recall', 'f1'])"
   ]
  },
  {
   "cell_type": "code",
   "execution_count": 302,
   "metadata": {},
   "outputs": [
    {
     "data": {
      "image/png": "[encoded data removed]",
      "text/plain": [
       "<Figure size 432x288 with 1 Axes>"
      ]
     },
     "metadata": {
      "needs_background": "light"
     },
     "output_type": "display_data"
    }
   ],
   "source": [
    "from metal.contrib.visualization.analysis import (\n",
    "    plot_predictions_histogram, \n",
    "    plot_probabilities_histogram,\n",
    ")\n",
    "\n",
    "Y_train_ps = label_model.predict_proba(LF_matrix)\n",
    "Y_snorkel = label_model.predict(LF_matrix)\n",
    "\n",
    "plot_predictions_histogram(gold_standard,\n",
    "                           label_model.predict(LF_matrix),\n",
    "                           title=\"Label Distribution\")"
   ]
  },
  {
   "cell_type": "code",
   "execution_count": 293,
   "metadata": {},
   "outputs": [],
   "source": [
    "false = np.where(Y_snorkel != df['class'])\n",
    "false_negatives = [x for x in false[0] if df['class'][x] == 2]\n",
    "#false_positives = [x for x in false[0] if df['class'][x] == 3] # TRUE: Neutral, PRED: Incentive"
   ]
  },
  {
   "cell_type": "code",
   "execution_count": null,
   "metadata": {},
   "outputs": [],
   "source": [
    "f_to_p = []\n",
    "for x in false_negatives:\n",
    "    print(x, df['sentences'][x], df['class'][x], Y_snorkel[x])"
   ]
  },
  {
   "cell_type": "markdown",
   "metadata": {},
   "source": [
    "## End model"
   ]
  },
  {
   "cell_type": "code",
   "execution_count": 123,
   "metadata": {},
   "outputs": [
    {
     "name": "stdout",
     "output_type": "stream",
     "text": [
      "\n",
      "Network architecture:\n",
      "Sequential(\n",
      "  (0): IdentityModule()\n",
      "  (1): Sequential(\n",
      "    (0): Linear(in_features=1000, out_features=10, bias=True)\n",
      "    (1): ReLU()\n",
      "  )\n",
      "  (2): Linear(in_features=10, out_features=2, bias=True)\n",
      ")\n",
      "\n"
     ]
    }
   ],
   "source": [
    "from metal.end_model import EndModel\n",
    "import torch\n",
    "\n",
    "if torch.cuda.is_available():\n",
    "    device = 'cuda'\n",
    "else:\n",
    "    device='cpu'\n",
    "end_model = EndModel([1000,10,2], seed=123, device=device)"
   ]
  },
  {
   "cell_type": "code",
   "execution_count": null,
   "metadata": {},
   "outputs": [],
   "source": [
    "X = df['sentences']\n",
    "\n",
    "end_model.train_model((X, Y_train_ps), lr=0.01, l2=0.01, batch_size=256, \n",
    "                n_epochs=5, checkpoint_metric='accuracy', checkpoint_metric_mode='max')"
   ]
  },
  {
   "cell_type": "code",
   "execution_count": 93,
   "metadata": {},
   "outputs": [
    {
     "data": {
      "text/plain": [
       "(1033, 3)"
      ]
     },
     "execution_count": 93,
     "metadata": {},
     "output_type": "execute_result"
    }
   ],
   "source": [
    "Y_train_ps.shape"
   ]
  }
 ],
 "metadata": {
  "kernelspec": {
   "display_name": "policy-toolkit",
   "language": "python",
   "name": "policy-toolkit"
  },
  "language_info": {
   "codemirror_mode": {
    "name": "ipython",
    "version": 3
   },
   "file_extension": ".py",
   "mimetype": "text/x-python",
   "name": "python",
   "nbconvert_exporter": "python",
   "pygments_lexer": "ipython3",
   "version": "3.6.6"
  }
 },
 "nbformat": 4,
 "nbformat_minor": 2
}
