{
 "cells": [
  {
   "cell_type": "markdown",
   "metadata": {},
   "source": [
    "# End model to predict financial incentives and disincentives\n",
    "\n",
    "John Brandt\n",
    "\n",
    "Last updated: Aug 19, 2019\n",
    "\n",
    "\n",
    "This notebook contains a gold standard baseline (LSTM with gold standard labels) as well as a noisy implementation of snorkel labels with roBERTa encoding."
   ]
  },
  {
   "cell_type": "code",
   "execution_count": 1,
   "metadata": {},
   "outputs": [],
   "source": [
    "import numpy as np\n",
    "import torch\n",
    "import pandas as pd\n",
    "from torch import nn"
   ]
  },
  {
   "cell_type": "markdown",
   "metadata": {},
   "source": [
    "## Gold standard baseline\n",
    "\n",
    "Shallow RNN with RoBERTa encoded words."
   ]
  },
  {
   "cell_type": "code",
   "execution_count": 11,
   "metadata": {},
   "outputs": [],
   "source": [
    "encodings = np.load('../data/interim/encodings.npy')\n",
    "df = pd.read_csv(\"../data/processed/gold_standard.csv\")"
   ]
  },
  {
   "cell_type": "code",
   "execution_count": 12,
   "metadata": {},
   "outputs": [
    {
     "data": {
      "text/plain": [
       "(50, 20, 1024)"
      ]
     },
     "execution_count": 12,
     "metadata": {},
     "output_type": "execute_result"
    }
   ],
   "source": [
    "encodings.shape"
   ]
  },
  {
   "cell_type": "code",
   "execution_count": 99,
   "metadata": {},
   "outputs": [],
   "source": [
    "class Model(nn.Module):\n",
    "    def __init__(self, input_size, output_size, hidden_dim, n_layers):\n",
    "        super(Model, self).__init__()\n",
    "\n",
    "        # Defining some parameters\n",
    "        self.hidden_dim = hidden_dim\n",
    "        self.n_layers = n_layers\n",
    "        self.output_size = output_size\n",
    "\n",
    "        # Defining the layers\n",
    "        # RNN Layer\n",
    "        self.rnn = nn.RNN(input_size, hidden_dim, n_layers, batch_first=True)   \n",
    "        # Fully connected layer\n",
    "        self.fc = nn.Linear(hidden_dim, self.output_size)\n",
    "    \n",
    "    def forward(self, x):\n",
    "        \n",
    "        batch_size = x.size(0)\n",
    "\n",
    "        #Initializing hidden state for first input using method defined below\n",
    "        hidden = self.init_hidden(batch_size)\n",
    "\n",
    "        # Passing in the input and hidden state into the model and obtaining outputs\n",
    "        out, hidden = self.rnn(x, hidden)\n",
    "        \n",
    "        # Reshaping the outputs such that it can be fit into the fully connected layer\n",
    "        out = out.contiguous().view(-1, self.hidden_dim)\n",
    "        out = self.fc(hidden)\n",
    "        \n",
    "        return out, hidden\n",
    "    \n",
    "    def init_hidden(self, batch_size):\n",
    "        # This method generates the first hidden state of zeros which we'll use in the forward pass\n",
    "        hidden = torch.zeros(self.n_layers, batch_size, self.hidden_dim).to(device)\n",
    "         # We'll send the tensor holding the hidden state to the device we specified earlier as well\n",
    "        return hidden"
   ]
  },
  {
   "cell_type": "code",
   "execution_count": 56,
   "metadata": {},
   "outputs": [],
   "source": [
    "model = Model(input_size = 1024, output_size = 3, hidden_dim = 100, n_layers = 1)\n",
    "model.to(\"cpu\")\n",
    "\n",
    "n_epochs = 100\n",
    "lr = 0.001\n",
    "\n",
    "criterion = nn.CrossEntropyLoss()\n",
    "optimizer = torch.optim.Adam(model.parameters(), lr = lr)"
   ]
  },
  {
   "cell_type": "code",
   "execution_count": 69,
   "metadata": {},
   "outputs": [],
   "source": [
    "from torch.utils.data import DataLoader, TensorDataset\n",
    "Y = df['class'][:50] - 1\n",
    "\n",
    "train_data = TensorDataset(torch.from_numpy(encodings),\n",
    "                          torch.from_numpy(np.array(Y)))\n",
    "\n",
    "valid_data = TensorDataset(torch.from_numpy(encodings),\n",
    "                          torch.from_numpy(np.array(Y)))\n",
    "\n",
    "train_loader = DataLoader(train_data, shuffle = True, batch_size = 5)\n",
    "valid_loader = DataLoader(valid_data, shuffle = True, batch_size = 5)"
   ]
  },
  {
   "cell_type": "code",
   "execution_count": 68,
   "metadata": {},
   "outputs": [
    {
     "name": "stdout",
     "output_type": "stream",
     "text": [
      "Sample input size:  torch.Size([5, 20, 1024])\n",
      "Sample label size:  torch.Size([5])\n"
     ]
    }
   ],
   "source": [
    "# obtain one batch of training data\n",
    "dataiter = iter(train_loader)\n",
    "sample_x, sample_y = dataiter.next()\n",
    "print('Sample input size: ', sample_x.size()) # batch_size, seq_length\n",
    "print('Sample label size: ', sample_y.size()) # batch_size"
   ]
  },
  {
   "cell_type": "code",
   "execution_count": 77,
   "metadata": {},
   "outputs": [
    {
     "name": "stdout",
     "output_type": "stream",
     "text": [
      "Epoch: 11/100... Step: 100... Loss: 0.000110... Val Loss: 0.000128\n",
      "Epoch: 21/100... Step: 200... Loss: 0.000095... Val Loss: 0.000116\n",
      "Epoch: 31/100... Step: 300... Loss: 0.000081... Val Loss: 0.000104\n",
      "Epoch: 41/100... Step: 400... Loss: 0.000078... Val Loss: 0.000095\n",
      "Epoch: 51/100... Step: 500... Loss: 0.000112... Val Loss: 0.000088\n",
      "Epoch: 61/100... Step: 600... Loss: 0.000066... Val Loss: 0.000082\n",
      "Epoch: 71/100... Step: 700... Loss: 0.000075... Val Loss: 0.000076\n",
      "Epoch: 81/100... Step: 800... Loss: 0.000090... Val Loss: 0.000071\n",
      "Epoch: 91/100... Step: 900... Loss: 0.000065... Val Loss: 0.000067\n",
      "Epoch: 101/100... Step: 1000... Loss: 0.000065... Val Loss: 0.000062\n"
     ]
    }
   ],
   "source": [
    "counter = 0\n",
    "device = \"cpu\"\n",
    "print_every = 100\n",
    "batch_size = 10\n",
    "\n",
    "\n",
    "for epoch in range(1, n_epochs + 1):\n",
    "    h = model.init_hidden(10)\n",
    "    for inputs, labels in train_loader:\n",
    "        counter += 1\n",
    "        h = tuple([each.data for each in h])\n",
    "        optimizer.zero_grad()\n",
    "        inputs = inputs.type(torch.FloatTensor)\n",
    "        output, h = model(inputs)\n",
    "        loss = criterion(output.squeeze(), labels.long())\n",
    "        loss.backward()\n",
    "        optimizer.step()\n",
    "        if counter % print_every == 0:\n",
    "            # Get validation loss\n",
    "            val_h = model.init_hidden(batch_size)\n",
    "            val_losses = []\n",
    "            model.eval()\n",
    "            for inputs, labels in valid_loader:\n",
    "\n",
    "                # Creating new variables for the hidden state, otherwise\n",
    "                # we'd backprop through the entire training history\n",
    "                val_h = tuple([each.data for each in val_h])\n",
    "\n",
    "                inputs = inputs.type(torch.FloatTensor)\n",
    "                output, val_h = model(inputs)\n",
    "                val_loss = criterion(output.squeeze(), labels.long())\n",
    "                val_losses.append(val_loss.item())\n",
    "\n",
    "            model.train()\n",
    "            print(\"Epoch: {}/{}...\".format(epoch+1, n_epochs),\n",
    "                  \"Step: {}...\".format(counter),\n",
    "                  \"Loss: {:.6f}...\".format(loss.item()),\n",
    "                  \"Val Loss: {:.6f}\".format(np.mean(val_losses)))"
   ]
  },
  {
   "cell_type": "markdown",
   "metadata": {},
   "source": [
    "## Snorkel end model with RoBERTA-LSTM input module and noise-aware output head"
   ]
  },
  {
   "cell_type": "code",
   "execution_count": 7,
   "metadata": {},
   "outputs": [],
   "source": [
    "probas = np.load('../data/interim/snorkel_proba.npy')"
   ]
  },
  {
   "cell_type": "code",
   "execution_count": 43,
   "metadata": {},
   "outputs": [],
   "source": [
    "class Middle(nn.Module):\n",
    "    def __init__(self, input_size, hidden_dim, n_layers):\n",
    "        super(Middle, self).__init__()\n",
    "\n",
    "        # Defining some parameters\n",
    "        self.hidden_dim = hidden_dim\n",
    "        self.n_layers = n_layers\n",
    "\n",
    "        # Defining the layers\n",
    "        # RNN Layer\n",
    "        self.rnn = nn.RNN(input_size, hidden_dim, n_layers, batch_first=True)   \n",
    "        # Fully connected layer\n",
    "    \n",
    "    def forward(self, x):\n",
    "        \n",
    "        batch_size = x.size(0)\n",
    "\n",
    "        #Initializing hidden state for first input using method defined below\n",
    "        hidden = self.init_hidden(batch_size)\n",
    "\n",
    "        # Passing in the input and hidden state into the model and obtaining outputs\n",
    "        out, hidden = self.rnn(x, hidden)    \n",
    "        return hidden.reshape((50, 150))\n",
    "    \n",
    "    def init_hidden(self, batch_size):\n",
    "        # This method generates the first hidden state of zeros which we'll use in the forward pass\n",
    "        hidden = torch.zeros(self.n_layers, batch_size, self.hidden_dim).to(device)\n",
    "         # We'll send the tensor holding the hidden state to the device we specified earlier as well\n",
    "        return hidden\n",
    "    \n",
    "mid_mod = Middle(input_size = 1024,\n",
    "                        hidden_dim = 150,\n",
    "                        n_layers = 1)"
   ]
  },
  {
   "cell_type": "code",
   "execution_count": 44,
   "metadata": {},
   "outputs": [
    {
     "name": "stdout",
     "output_type": "stream",
     "text": [
      "\n",
      "Network architecture:\n",
      "Sequential(\n",
      "  (0): IdentityModule()\n",
      "  (1): Sequential(\n",
      "    (0): Middle(\n",
      "      (rnn): RNN(1024, 150, batch_first=True)\n",
      "    )\n",
      "    (1): ReLU()\n",
      "  )\n",
      "  (2): Linear(in_features=150, out_features=3, bias=True)\n",
      ")\n",
      "\n"
     ]
    }
   ],
   "source": [
    "from metal.end_model import EndModel\n",
    "\n",
    "if torch.cuda.is_available():\n",
    "    device = 'cuda'\n",
    "else:\n",
    "    device='cpu'\n",
    "end_model = EndModel(layer_out_dims = [1024,150,3],\n",
    "                     middle_modules = [mid_mod], \n",
    "                     seed=123, device=device)"
   ]
  },
  {
   "cell_type": "code",
   "execution_count": null,
   "metadata": {},
   "outputs": [],
   "source": [
    "X = encodings\n",
    "\n",
    "end_model.train_model((X, probas[:50]), \n",
    "                      valid_data = (X, df['class'][:50]), \n",
    "                      lr=0.01, l2=0.01, batch_size=256, \n",
    "                      n_epochs=50,\n",
    "                      checkpoint_metric='accuracy',\n",
    "                      checkpoint_metric_mode='max')"
   ]
  },
  {
   "cell_type": "markdown",
   "metadata": {},
   "source": [
    "## To do: Snorkel end model with RoBERTa-LSTM input module and multi-task output head"
   ]
  },
  {
   "cell_type": "markdown",
   "metadata": {},
   "source": [
    "## To do: Snorkel end model with RoBERTa-LSTM input module and multi-task output head, with concatenation of additional feature engineering"
   ]
  },
  {
   "cell_type": "markdown",
   "metadata": {},
   "source": [
    "## To do: Snorkel end model with RoBERTa-LSTM input module and multi-task output head, with concatenation of additional feature engineering and synonym augmentation"
   ]
  }
 ],
 "metadata": {
  "kernelspec": {
   "display_name": "policy-toolkit",
   "language": "python",
   "name": "policy-toolkit"
  },
  "language_info": {
   "codemirror_mode": {
    "name": "ipython",
    "version": 3
   },
   "file_extension": ".py",
   "mimetype": "text/x-python",
   "name": "python",
   "nbconvert_exporter": "python",
   "pygments_lexer": "ipython3",
   "version": "3.7.3"
  }
 },
 "nbformat": 4,
 "nbformat_minor": 2
}
